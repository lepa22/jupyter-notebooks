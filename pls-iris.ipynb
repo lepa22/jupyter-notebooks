{
 "cells": [
  {
   "cell_type": "markdown",
   "metadata": {},
   "source": [
    "# Partial Least Squares Regression\n",
    "\n",
    "## Introduction\n",
    "\n",
    "Partial Least Squares Regression (PLSR) is a statistical method which is used to find the linear relation between a dependent variable $Y$ (response) and a set of $m$ independent variables $X$ (predictors), so that\n",
    "$$\n",
    "Y = b_{0} + b_{1} X_{1} + b_{2} X_{2} + \\dots + b_{m} X_{m},\n",
    "$$\n",
    "where $b_{0}$ is the regression coefficient for the intercept, which represents a residual error, and $b_{i}$, $i = 1, 2, \\dots, m$,\n",
    "are the computed regression coefficients.\n",
    "\n",
    "Using matrix notation and taking into account all response and predictor variables, the above expression can be written as\n",
    "$$\n",
    "\\mathbf{Y} = \\mathbf{XB} + \\mathbf{B_{0}},\n",
    "$$\n",
    "where $\\mathbf{Y}$ is the $n \\times p$ matrix for the response variables, $\\mathbf{X}$ is the $n \\times m$ matrix for the predictor variables, $\\mathbf{B}$ is the $m \\times p$ regression coefficient matrix and $\\mathbf{B_{0}}$ is the error term of the model and has the same dimensions as $\\mathbf{Y}$.\n",
    "\n",
    "The general underlying PLSR model decomposes $\\mathbf{X}$ and $\\mathbf{Y}$ matrices to a product of a common set of orthogonal factors and a set of specific loadings, much like PCA does. The response variables are decomposed as\n",
    "$$\n",
    "\\mathbf{X} = \\mathbf{TP^{\\mathrm{T}}} + \\mathbf{E},\n",
    "$$\n",
    "while the predictor variables are decomposed as\n",
    "$$\n",
    "\\mathbf{Y} = \\mathbf{UQ^{\\mathrm{T}}} + \\mathbf{F},\n",
    "$$\n",
    "where $\\mathbf{T}$ and $\\mathbf{U}$ are the $n \\times l$ score matrices, $\\mathbf{P}$ and $\\mathbf{Q}$ are the $m \\times l$ and $p \\times l$ loading matrices, respectively, and $\\mathbf{E}$ and $\\mathbf{F}$ are the $n \\times m$ and $n \\times p$ error terms for $\\mathbf{X}$ and $\\mathbf{Y}$, respectively.\n",
    "\n",
    "The PLS scores represent the new axes of the model (latent vectors) and are similar to the PCA scores. Specifically, the $T$ scores represent the new coordinates of the data points in the $X$ space, while the $U$ scores represent the new coordinates of the data points in the $Y$ space and are related to $T$ by a constant $C$, so that $\\mathbf{U} = \\mathbf{TC}$ in matrix notation. The relationship between $T$ and $U$ scores is a summary of the relationship between $X$ and $Y$ along a specific model component.\n",
    "\n",
    "The PlS loadings express how much each of the $X$ and $Y$ variables contribute to a specific model component summarized by the $T$ scores. The loadings are not normalized, which means that the $P$ and $Q$ loadings do not share a common scale.\n",
    "\n",
    "The goal of PLSR is to build a model based on well-known data, which can then be used to predict properties of unknown data."
   ]
  },
  {
   "cell_type": "markdown",
   "metadata": {
    "collapsed": true
   },
   "source": [
    "## Demonstration\n",
    "\n",
    "### Loading the data\n",
    "\n",
    "In this notebook we will use the **iris dataset**, which is included in the **sklearn.datasets**, to show how to build a basic PLSR model. The iris dataset is one of sklearn's [test datasets](http://scikit-learn.org/stable/datasets/) that contains various informations about three different Iris flower species. After we assign the dataset to a variable we can print it to see its contents."
   ]
  },
  {
   "cell_type": "code",
   "execution_count": 1,
   "metadata": {
    "collapsed": true
   },
   "outputs": [],
   "source": [
    "from sklearn.datasets import load_iris"
   ]
  },
  {
   "cell_type": "code",
   "execution_count": 2,
   "metadata": {
    "scrolled": true
   },
   "outputs": [
    {
     "data": {
      "text/plain": [
       "{'DESCR': 'Iris Plants Database\\n====================\\n\\nNotes\\n-----\\nData Set Characteristics:\\n    :Number of Instances: 150 (50 in each of three classes)\\n    :Number of Attributes: 4 numeric, predictive attributes and the class\\n    :Attribute Information:\\n        - sepal length in cm\\n        - sepal width in cm\\n        - petal length in cm\\n        - petal width in cm\\n        - class:\\n                - Iris-Setosa\\n                - Iris-Versicolour\\n                - Iris-Virginica\\n    :Summary Statistics:\\n\\n    ============== ==== ==== ======= ===== ====================\\n                    Min  Max   Mean    SD   Class Correlation\\n    ============== ==== ==== ======= ===== ====================\\n    sepal length:   4.3  7.9   5.84   0.83    0.7826\\n    sepal width:    2.0  4.4   3.05   0.43   -0.4194\\n    petal length:   1.0  6.9   3.76   1.76    0.9490  (high!)\\n    petal width:    0.1  2.5   1.20  0.76     0.9565  (high!)\\n    ============== ==== ==== ======= ===== ====================\\n\\n    :Missing Attribute Values: None\\n    :Class Distribution: 33.3% for each of 3 classes.\\n    :Creator: R.A. Fisher\\n    :Donor: Michael Marshall (MARSHALL%PLU@io.arc.nasa.gov)\\n    :Date: July, 1988\\n\\nThis is a copy of UCI ML iris datasets.\\nhttp://archive.ics.uci.edu/ml/datasets/Iris\\n\\nThe famous Iris database, first used by Sir R.A Fisher\\n\\nThis is perhaps the best known database to be found in the\\npattern recognition literature.  Fisher\\'s paper is a classic in the field and\\nis referenced frequently to this day.  (See Duda & Hart, for example.)  The\\ndata set contains 3 classes of 50 instances each, where each class refers to a\\ntype of iris plant.  One class is linearly separable from the other 2; the\\nlatter are NOT linearly separable from each other.\\n\\nReferences\\n----------\\n   - Fisher,R.A. \"The use of multiple measurements in taxonomic problems\"\\n     Annual Eugenics, 7, Part II, 179-188 (1936); also in \"Contributions to\\n     Mathematical Statistics\" (John Wiley, NY, 1950).\\n   - Duda,R.O., & Hart,P.E. (1973) Pattern Classification and Scene Analysis.\\n     (Q327.D83) John Wiley & Sons.  ISBN 0-471-22361-1.  See page 218.\\n   - Dasarathy, B.V. (1980) \"Nosing Around the Neighborhood: A New System\\n     Structure and Classification Rule for Recognition in Partially Exposed\\n     Environments\".  IEEE Transactions on Pattern Analysis and Machine\\n     Intelligence, Vol. PAMI-2, No. 1, 67-71.\\n   - Gates, G.W. (1972) \"The Reduced Nearest Neighbor Rule\".  IEEE Transactions\\n     on Information Theory, May 1972, 431-433.\\n   - See also: 1988 MLC Proceedings, 54-64.  Cheeseman et al\"s AUTOCLASS II\\n     conceptual clustering system finds 3 classes in the data.\\n   - Many, many more ...\\n',\n",
       " 'data': array([[ 5.1,  3.5,  1.4,  0.2],\n",
       "        [ 4.9,  3. ,  1.4,  0.2],\n",
       "        [ 4.7,  3.2,  1.3,  0.2],\n",
       "        [ 4.6,  3.1,  1.5,  0.2],\n",
       "        [ 5. ,  3.6,  1.4,  0.2],\n",
       "        [ 5.4,  3.9,  1.7,  0.4],\n",
       "        [ 4.6,  3.4,  1.4,  0.3],\n",
       "        [ 5. ,  3.4,  1.5,  0.2],\n",
       "        [ 4.4,  2.9,  1.4,  0.2],\n",
       "        [ 4.9,  3.1,  1.5,  0.1],\n",
       "        [ 5.4,  3.7,  1.5,  0.2],\n",
       "        [ 4.8,  3.4,  1.6,  0.2],\n",
       "        [ 4.8,  3. ,  1.4,  0.1],\n",
       "        [ 4.3,  3. ,  1.1,  0.1],\n",
       "        [ 5.8,  4. ,  1.2,  0.2],\n",
       "        [ 5.7,  4.4,  1.5,  0.4],\n",
       "        [ 5.4,  3.9,  1.3,  0.4],\n",
       "        [ 5.1,  3.5,  1.4,  0.3],\n",
       "        [ 5.7,  3.8,  1.7,  0.3],\n",
       "        [ 5.1,  3.8,  1.5,  0.3],\n",
       "        [ 5.4,  3.4,  1.7,  0.2],\n",
       "        [ 5.1,  3.7,  1.5,  0.4],\n",
       "        [ 4.6,  3.6,  1. ,  0.2],\n",
       "        [ 5.1,  3.3,  1.7,  0.5],\n",
       "        [ 4.8,  3.4,  1.9,  0.2],\n",
       "        [ 5. ,  3. ,  1.6,  0.2],\n",
       "        [ 5. ,  3.4,  1.6,  0.4],\n",
       "        [ 5.2,  3.5,  1.5,  0.2],\n",
       "        [ 5.2,  3.4,  1.4,  0.2],\n",
       "        [ 4.7,  3.2,  1.6,  0.2],\n",
       "        [ 4.8,  3.1,  1.6,  0.2],\n",
       "        [ 5.4,  3.4,  1.5,  0.4],\n",
       "        [ 5.2,  4.1,  1.5,  0.1],\n",
       "        [ 5.5,  4.2,  1.4,  0.2],\n",
       "        [ 4.9,  3.1,  1.5,  0.1],\n",
       "        [ 5. ,  3.2,  1.2,  0.2],\n",
       "        [ 5.5,  3.5,  1.3,  0.2],\n",
       "        [ 4.9,  3.1,  1.5,  0.1],\n",
       "        [ 4.4,  3. ,  1.3,  0.2],\n",
       "        [ 5.1,  3.4,  1.5,  0.2],\n",
       "        [ 5. ,  3.5,  1.3,  0.3],\n",
       "        [ 4.5,  2.3,  1.3,  0.3],\n",
       "        [ 4.4,  3.2,  1.3,  0.2],\n",
       "        [ 5. ,  3.5,  1.6,  0.6],\n",
       "        [ 5.1,  3.8,  1.9,  0.4],\n",
       "        [ 4.8,  3. ,  1.4,  0.3],\n",
       "        [ 5.1,  3.8,  1.6,  0.2],\n",
       "        [ 4.6,  3.2,  1.4,  0.2],\n",
       "        [ 5.3,  3.7,  1.5,  0.2],\n",
       "        [ 5. ,  3.3,  1.4,  0.2],\n",
       "        [ 7. ,  3.2,  4.7,  1.4],\n",
       "        [ 6.4,  3.2,  4.5,  1.5],\n",
       "        [ 6.9,  3.1,  4.9,  1.5],\n",
       "        [ 5.5,  2.3,  4. ,  1.3],\n",
       "        [ 6.5,  2.8,  4.6,  1.5],\n",
       "        [ 5.7,  2.8,  4.5,  1.3],\n",
       "        [ 6.3,  3.3,  4.7,  1.6],\n",
       "        [ 4.9,  2.4,  3.3,  1. ],\n",
       "        [ 6.6,  2.9,  4.6,  1.3],\n",
       "        [ 5.2,  2.7,  3.9,  1.4],\n",
       "        [ 5. ,  2. ,  3.5,  1. ],\n",
       "        [ 5.9,  3. ,  4.2,  1.5],\n",
       "        [ 6. ,  2.2,  4. ,  1. ],\n",
       "        [ 6.1,  2.9,  4.7,  1.4],\n",
       "        [ 5.6,  2.9,  3.6,  1.3],\n",
       "        [ 6.7,  3.1,  4.4,  1.4],\n",
       "        [ 5.6,  3. ,  4.5,  1.5],\n",
       "        [ 5.8,  2.7,  4.1,  1. ],\n",
       "        [ 6.2,  2.2,  4.5,  1.5],\n",
       "        [ 5.6,  2.5,  3.9,  1.1],\n",
       "        [ 5.9,  3.2,  4.8,  1.8],\n",
       "        [ 6.1,  2.8,  4. ,  1.3],\n",
       "        [ 6.3,  2.5,  4.9,  1.5],\n",
       "        [ 6.1,  2.8,  4.7,  1.2],\n",
       "        [ 6.4,  2.9,  4.3,  1.3],\n",
       "        [ 6.6,  3. ,  4.4,  1.4],\n",
       "        [ 6.8,  2.8,  4.8,  1.4],\n",
       "        [ 6.7,  3. ,  5. ,  1.7],\n",
       "        [ 6. ,  2.9,  4.5,  1.5],\n",
       "        [ 5.7,  2.6,  3.5,  1. ],\n",
       "        [ 5.5,  2.4,  3.8,  1.1],\n",
       "        [ 5.5,  2.4,  3.7,  1. ],\n",
       "        [ 5.8,  2.7,  3.9,  1.2],\n",
       "        [ 6. ,  2.7,  5.1,  1.6],\n",
       "        [ 5.4,  3. ,  4.5,  1.5],\n",
       "        [ 6. ,  3.4,  4.5,  1.6],\n",
       "        [ 6.7,  3.1,  4.7,  1.5],\n",
       "        [ 6.3,  2.3,  4.4,  1.3],\n",
       "        [ 5.6,  3. ,  4.1,  1.3],\n",
       "        [ 5.5,  2.5,  4. ,  1.3],\n",
       "        [ 5.5,  2.6,  4.4,  1.2],\n",
       "        [ 6.1,  3. ,  4.6,  1.4],\n",
       "        [ 5.8,  2.6,  4. ,  1.2],\n",
       "        [ 5. ,  2.3,  3.3,  1. ],\n",
       "        [ 5.6,  2.7,  4.2,  1.3],\n",
       "        [ 5.7,  3. ,  4.2,  1.2],\n",
       "        [ 5.7,  2.9,  4.2,  1.3],\n",
       "        [ 6.2,  2.9,  4.3,  1.3],\n",
       "        [ 5.1,  2.5,  3. ,  1.1],\n",
       "        [ 5.7,  2.8,  4.1,  1.3],\n",
       "        [ 6.3,  3.3,  6. ,  2.5],\n",
       "        [ 5.8,  2.7,  5.1,  1.9],\n",
       "        [ 7.1,  3. ,  5.9,  2.1],\n",
       "        [ 6.3,  2.9,  5.6,  1.8],\n",
       "        [ 6.5,  3. ,  5.8,  2.2],\n",
       "        [ 7.6,  3. ,  6.6,  2.1],\n",
       "        [ 4.9,  2.5,  4.5,  1.7],\n",
       "        [ 7.3,  2.9,  6.3,  1.8],\n",
       "        [ 6.7,  2.5,  5.8,  1.8],\n",
       "        [ 7.2,  3.6,  6.1,  2.5],\n",
       "        [ 6.5,  3.2,  5.1,  2. ],\n",
       "        [ 6.4,  2.7,  5.3,  1.9],\n",
       "        [ 6.8,  3. ,  5.5,  2.1],\n",
       "        [ 5.7,  2.5,  5. ,  2. ],\n",
       "        [ 5.8,  2.8,  5.1,  2.4],\n",
       "        [ 6.4,  3.2,  5.3,  2.3],\n",
       "        [ 6.5,  3. ,  5.5,  1.8],\n",
       "        [ 7.7,  3.8,  6.7,  2.2],\n",
       "        [ 7.7,  2.6,  6.9,  2.3],\n",
       "        [ 6. ,  2.2,  5. ,  1.5],\n",
       "        [ 6.9,  3.2,  5.7,  2.3],\n",
       "        [ 5.6,  2.8,  4.9,  2. ],\n",
       "        [ 7.7,  2.8,  6.7,  2. ],\n",
       "        [ 6.3,  2.7,  4.9,  1.8],\n",
       "        [ 6.7,  3.3,  5.7,  2.1],\n",
       "        [ 7.2,  3.2,  6. ,  1.8],\n",
       "        [ 6.2,  2.8,  4.8,  1.8],\n",
       "        [ 6.1,  3. ,  4.9,  1.8],\n",
       "        [ 6.4,  2.8,  5.6,  2.1],\n",
       "        [ 7.2,  3. ,  5.8,  1.6],\n",
       "        [ 7.4,  2.8,  6.1,  1.9],\n",
       "        [ 7.9,  3.8,  6.4,  2. ],\n",
       "        [ 6.4,  2.8,  5.6,  2.2],\n",
       "        [ 6.3,  2.8,  5.1,  1.5],\n",
       "        [ 6.1,  2.6,  5.6,  1.4],\n",
       "        [ 7.7,  3. ,  6.1,  2.3],\n",
       "        [ 6.3,  3.4,  5.6,  2.4],\n",
       "        [ 6.4,  3.1,  5.5,  1.8],\n",
       "        [ 6. ,  3. ,  4.8,  1.8],\n",
       "        [ 6.9,  3.1,  5.4,  2.1],\n",
       "        [ 6.7,  3.1,  5.6,  2.4],\n",
       "        [ 6.9,  3.1,  5.1,  2.3],\n",
       "        [ 5.8,  2.7,  5.1,  1.9],\n",
       "        [ 6.8,  3.2,  5.9,  2.3],\n",
       "        [ 6.7,  3.3,  5.7,  2.5],\n",
       "        [ 6.7,  3. ,  5.2,  2.3],\n",
       "        [ 6.3,  2.5,  5. ,  1.9],\n",
       "        [ 6.5,  3. ,  5.2,  2. ],\n",
       "        [ 6.2,  3.4,  5.4,  2.3],\n",
       "        [ 5.9,  3. ,  5.1,  1.8]]),\n",
       " 'feature_names': ['sepal length (cm)',\n",
       "  'sepal width (cm)',\n",
       "  'petal length (cm)',\n",
       "  'petal width (cm)'],\n",
       " 'target': array([0, 0, 0, 0, 0, 0, 0, 0, 0, 0, 0, 0, 0, 0, 0, 0, 0, 0, 0, 0, 0, 0, 0,\n",
       "        0, 0, 0, 0, 0, 0, 0, 0, 0, 0, 0, 0, 0, 0, 0, 0, 0, 0, 0, 0, 0, 0, 0,\n",
       "        0, 0, 0, 0, 1, 1, 1, 1, 1, 1, 1, 1, 1, 1, 1, 1, 1, 1, 1, 1, 1, 1, 1,\n",
       "        1, 1, 1, 1, 1, 1, 1, 1, 1, 1, 1, 1, 1, 1, 1, 1, 1, 1, 1, 1, 1, 1, 1,\n",
       "        1, 1, 1, 1, 1, 1, 1, 1, 2, 2, 2, 2, 2, 2, 2, 2, 2, 2, 2, 2, 2, 2, 2,\n",
       "        2, 2, 2, 2, 2, 2, 2, 2, 2, 2, 2, 2, 2, 2, 2, 2, 2, 2, 2, 2, 2, 2, 2,\n",
       "        2, 2, 2, 2, 2, 2, 2, 2, 2, 2, 2, 2]),\n",
       " 'target_names': array(['setosa', 'versicolor', 'virginica'],\n",
       "       dtype='<U10')}"
      ]
     },
     "execution_count": 2,
     "metadata": {},
     "output_type": "execute_result"
    }
   ],
   "source": [
    "dataset = load_iris()\n",
    "dataset"
   ]
  },
  {
   "cell_type": "markdown",
   "metadata": {},
   "source": [
    "In order to easily manipulate the data we will work with pandas's dataframes. By inspecting the data, we see that the relevant features for our demonstration are the `'data'`, the `'feature_names'` and the `'target'` arrays. The `'data'` and `'feature_names'` arrays are self-explanatory. The `'target'` array contains the values that should be predicted by the PLSR model."
   ]
  },
  {
   "cell_type": "code",
   "execution_count": 3,
   "metadata": {
    "collapsed": true
   },
   "outputs": [],
   "source": [
    "import pandas as pd"
   ]
  },
  {
   "cell_type": "code",
   "execution_count": 4,
   "metadata": {},
   "outputs": [
    {
     "data": {
      "text/html": [
       "<div>\n",
       "<style>\n",
       "    .dataframe thead tr:only-child th {\n",
       "        text-align: right;\n",
       "    }\n",
       "\n",
       "    .dataframe thead th {\n",
       "        text-align: left;\n",
       "    }\n",
       "\n",
       "    .dataframe tbody tr th {\n",
       "        vertical-align: top;\n",
       "    }\n",
       "</style>\n",
       "<table border=\"1\" class=\"dataframe\">\n",
       "  <thead>\n",
       "    <tr style=\"text-align: right;\">\n",
       "      <th></th>\n",
       "      <th>sepal length (cm)</th>\n",
       "      <th>sepal width (cm)</th>\n",
       "      <th>petal length (cm)</th>\n",
       "      <th>petal width (cm)</th>\n",
       "    </tr>\n",
       "  </thead>\n",
       "  <tbody>\n",
       "    <tr>\n",
       "      <th>0</th>\n",
       "      <td>5.1</td>\n",
       "      <td>3.5</td>\n",
       "      <td>1.4</td>\n",
       "      <td>0.2</td>\n",
       "    </tr>\n",
       "    <tr>\n",
       "      <th>1</th>\n",
       "      <td>4.9</td>\n",
       "      <td>3.0</td>\n",
       "      <td>1.4</td>\n",
       "      <td>0.2</td>\n",
       "    </tr>\n",
       "    <tr>\n",
       "      <th>2</th>\n",
       "      <td>4.7</td>\n",
       "      <td>3.2</td>\n",
       "      <td>1.3</td>\n",
       "      <td>0.2</td>\n",
       "    </tr>\n",
       "    <tr>\n",
       "      <th>3</th>\n",
       "      <td>4.6</td>\n",
       "      <td>3.1</td>\n",
       "      <td>1.5</td>\n",
       "      <td>0.2</td>\n",
       "    </tr>\n",
       "    <tr>\n",
       "      <th>4</th>\n",
       "      <td>5.0</td>\n",
       "      <td>3.6</td>\n",
       "      <td>1.4</td>\n",
       "      <td>0.2</td>\n",
       "    </tr>\n",
       "  </tbody>\n",
       "</table>\n",
       "</div>"
      ],
      "text/plain": [
       "   sepal length (cm)  sepal width (cm)  petal length (cm)  petal width (cm)\n",
       "0                5.1               3.5                1.4               0.2\n",
       "1                4.9               3.0                1.4               0.2\n",
       "2                4.7               3.2                1.3               0.2\n",
       "3                4.6               3.1                1.5               0.2\n",
       "4                5.0               3.6                1.4               0.2"
      ]
     },
     "execution_count": 4,
     "metadata": {},
     "output_type": "execute_result"
    }
   ],
   "source": [
    "# load data as df_x with feature_names as columns' names\n",
    "df_x = pd.DataFrame(dataset.data, columns=dataset.feature_names)\n",
    "df_x.head()  # print df_x head"
   ]
  },
  {
   "cell_type": "code",
   "execution_count": 5,
   "metadata": {},
   "outputs": [
    {
     "data": {
      "text/html": [
       "<div>\n",
       "<style>\n",
       "    .dataframe thead tr:only-child th {\n",
       "        text-align: right;\n",
       "    }\n",
       "\n",
       "    .dataframe thead th {\n",
       "        text-align: left;\n",
       "    }\n",
       "\n",
       "    .dataframe tbody tr th {\n",
       "        vertical-align: top;\n",
       "    }\n",
       "</style>\n",
       "<table border=\"1\" class=\"dataframe\">\n",
       "  <thead>\n",
       "    <tr style=\"text-align: right;\">\n",
       "      <th></th>\n",
       "      <th>target</th>\n",
       "    </tr>\n",
       "  </thead>\n",
       "  <tbody>\n",
       "    <tr>\n",
       "      <th>0</th>\n",
       "      <td>0</td>\n",
       "    </tr>\n",
       "    <tr>\n",
       "      <th>1</th>\n",
       "      <td>0</td>\n",
       "    </tr>\n",
       "    <tr>\n",
       "      <th>2</th>\n",
       "      <td>0</td>\n",
       "    </tr>\n",
       "    <tr>\n",
       "      <th>3</th>\n",
       "      <td>0</td>\n",
       "    </tr>\n",
       "    <tr>\n",
       "      <th>4</th>\n",
       "      <td>0</td>\n",
       "    </tr>\n",
       "  </tbody>\n",
       "</table>\n",
       "</div>"
      ],
      "text/plain": [
       "   target\n",
       "0       0\n",
       "1       0\n",
       "2       0\n",
       "3       0\n",
       "4       0"
      ]
     },
     "execution_count": 5,
     "metadata": {},
     "output_type": "execute_result"
    }
   ],
   "source": [
    "# load target data as df_y\n",
    "df_y = pd.DataFrame(dataset.target)\n",
    "df_y.columns = ['target']\n",
    "df_y.head()"
   ]
  },
  {
   "cell_type": "code",
   "execution_count": 6,
   "metadata": {},
   "outputs": [
    {
     "data": {
      "text/html": [
       "<div>\n",
       "<style>\n",
       "    .dataframe thead tr:only-child th {\n",
       "        text-align: right;\n",
       "    }\n",
       "\n",
       "    .dataframe thead th {\n",
       "        text-align: left;\n",
       "    }\n",
       "\n",
       "    .dataframe tbody tr th {\n",
       "        vertical-align: top;\n",
       "    }\n",
       "</style>\n",
       "<table border=\"1\" class=\"dataframe\">\n",
       "  <thead>\n",
       "    <tr style=\"text-align: right;\">\n",
       "      <th></th>\n",
       "      <th>0</th>\n",
       "    </tr>\n",
       "  </thead>\n",
       "  <tbody>\n",
       "    <tr>\n",
       "      <th>0</th>\n",
       "      <td>setosa</td>\n",
       "    </tr>\n",
       "    <tr>\n",
       "      <th>1</th>\n",
       "      <td>versicolor</td>\n",
       "    </tr>\n",
       "    <tr>\n",
       "      <th>2</th>\n",
       "      <td>virginica</td>\n",
       "    </tr>\n",
       "  </tbody>\n",
       "</table>\n",
       "</div>"
      ],
      "text/plain": [
       "            0\n",
       "0      setosa\n",
       "1  versicolor\n",
       "2   virginica"
      ]
     },
     "execution_count": 6,
     "metadata": {},
     "output_type": "execute_result"
    }
   ],
   "source": [
    "names = pd.DataFrame(dataset.target_names)\n",
    "names"
   ]
  },
  {
   "cell_type": "markdown",
   "metadata": {},
   "source": [
    "Let's have a look at the overall shape of the two dataframes."
   ]
  },
  {
   "cell_type": "code",
   "execution_count": 7,
   "metadata": {},
   "outputs": [
    {
     "data": {
      "text/plain": [
       "((150, 4), (150, 1))"
      ]
     },
     "execution_count": 7,
     "metadata": {},
     "output_type": "execute_result"
    }
   ],
   "source": [
    "# df_x and df_y shapes\n",
    "df_x.shape, df_y.shape"
   ]
  },
  {
   "cell_type": "markdown",
   "metadata": {
    "collapsed": true
   },
   "source": [
    "For a quick overview of the data we can use the **describe()** dataframe attribute, which provides descriptive statistics that summarize the central tendency, dispersion and shape of a dataset's distribution."
   ]
  },
  {
   "cell_type": "code",
   "execution_count": 8,
   "metadata": {},
   "outputs": [
    {
     "data": {
      "text/html": [
       "<div>\n",
       "<style>\n",
       "    .dataframe thead tr:only-child th {\n",
       "        text-align: right;\n",
       "    }\n",
       "\n",
       "    .dataframe thead th {\n",
       "        text-align: left;\n",
       "    }\n",
       "\n",
       "    .dataframe tbody tr th {\n",
       "        vertical-align: top;\n",
       "    }\n",
       "</style>\n",
       "<table border=\"1\" class=\"dataframe\">\n",
       "  <thead>\n",
       "    <tr style=\"text-align: right;\">\n",
       "      <th></th>\n",
       "      <th>sepal length (cm)</th>\n",
       "      <th>sepal width (cm)</th>\n",
       "      <th>petal length (cm)</th>\n",
       "      <th>petal width (cm)</th>\n",
       "    </tr>\n",
       "  </thead>\n",
       "  <tbody>\n",
       "    <tr>\n",
       "      <th>count</th>\n",
       "      <td>150.000000</td>\n",
       "      <td>150.000000</td>\n",
       "      <td>150.000000</td>\n",
       "      <td>150.000000</td>\n",
       "    </tr>\n",
       "    <tr>\n",
       "      <th>mean</th>\n",
       "      <td>5.843333</td>\n",
       "      <td>3.054000</td>\n",
       "      <td>3.758667</td>\n",
       "      <td>1.198667</td>\n",
       "    </tr>\n",
       "    <tr>\n",
       "      <th>std</th>\n",
       "      <td>0.828066</td>\n",
       "      <td>0.433594</td>\n",
       "      <td>1.764420</td>\n",
       "      <td>0.763161</td>\n",
       "    </tr>\n",
       "    <tr>\n",
       "      <th>min</th>\n",
       "      <td>4.300000</td>\n",
       "      <td>2.000000</td>\n",
       "      <td>1.000000</td>\n",
       "      <td>0.100000</td>\n",
       "    </tr>\n",
       "    <tr>\n",
       "      <th>25%</th>\n",
       "      <td>5.100000</td>\n",
       "      <td>2.800000</td>\n",
       "      <td>1.600000</td>\n",
       "      <td>0.300000</td>\n",
       "    </tr>\n",
       "    <tr>\n",
       "      <th>50%</th>\n",
       "      <td>5.800000</td>\n",
       "      <td>3.000000</td>\n",
       "      <td>4.350000</td>\n",
       "      <td>1.300000</td>\n",
       "    </tr>\n",
       "    <tr>\n",
       "      <th>75%</th>\n",
       "      <td>6.400000</td>\n",
       "      <td>3.300000</td>\n",
       "      <td>5.100000</td>\n",
       "      <td>1.800000</td>\n",
       "    </tr>\n",
       "    <tr>\n",
       "      <th>max</th>\n",
       "      <td>7.900000</td>\n",
       "      <td>4.400000</td>\n",
       "      <td>6.900000</td>\n",
       "      <td>2.500000</td>\n",
       "    </tr>\n",
       "  </tbody>\n",
       "</table>\n",
       "</div>"
      ],
      "text/plain": [
       "       sepal length (cm)  sepal width (cm)  petal length (cm)  \\\n",
       "count         150.000000        150.000000         150.000000   \n",
       "mean            5.843333          3.054000           3.758667   \n",
       "std             0.828066          0.433594           1.764420   \n",
       "min             4.300000          2.000000           1.000000   \n",
       "25%             5.100000          2.800000           1.600000   \n",
       "50%             5.800000          3.000000           4.350000   \n",
       "75%             6.400000          3.300000           5.100000   \n",
       "max             7.900000          4.400000           6.900000   \n",
       "\n",
       "       petal width (cm)  \n",
       "count        150.000000  \n",
       "mean           1.198667  \n",
       "std            0.763161  \n",
       "min            0.100000  \n",
       "25%            0.300000  \n",
       "50%            1.300000  \n",
       "75%            1.800000  \n",
       "max            2.500000  "
      ]
     },
     "execution_count": 8,
     "metadata": {},
     "output_type": "execute_result"
    }
   ],
   "source": [
    "# describe df_x\n",
    "df_x.describe()"
   ]
  },
  {
   "cell_type": "code",
   "execution_count": 9,
   "metadata": {},
   "outputs": [
    {
     "data": {
      "text/html": [
       "<div>\n",
       "<style>\n",
       "    .dataframe thead tr:only-child th {\n",
       "        text-align: right;\n",
       "    }\n",
       "\n",
       "    .dataframe thead th {\n",
       "        text-align: left;\n",
       "    }\n",
       "\n",
       "    .dataframe tbody tr th {\n",
       "        vertical-align: top;\n",
       "    }\n",
       "</style>\n",
       "<table border=\"1\" class=\"dataframe\">\n",
       "  <thead>\n",
       "    <tr style=\"text-align: right;\">\n",
       "      <th></th>\n",
       "      <th>target</th>\n",
       "    </tr>\n",
       "  </thead>\n",
       "  <tbody>\n",
       "    <tr>\n",
       "      <th>count</th>\n",
       "      <td>150.000000</td>\n",
       "    </tr>\n",
       "    <tr>\n",
       "      <th>mean</th>\n",
       "      <td>1.000000</td>\n",
       "    </tr>\n",
       "    <tr>\n",
       "      <th>std</th>\n",
       "      <td>0.819232</td>\n",
       "    </tr>\n",
       "    <tr>\n",
       "      <th>min</th>\n",
       "      <td>0.000000</td>\n",
       "    </tr>\n",
       "    <tr>\n",
       "      <th>25%</th>\n",
       "      <td>0.000000</td>\n",
       "    </tr>\n",
       "    <tr>\n",
       "      <th>50%</th>\n",
       "      <td>1.000000</td>\n",
       "    </tr>\n",
       "    <tr>\n",
       "      <th>75%</th>\n",
       "      <td>2.000000</td>\n",
       "    </tr>\n",
       "    <tr>\n",
       "      <th>max</th>\n",
       "      <td>2.000000</td>\n",
       "    </tr>\n",
       "  </tbody>\n",
       "</table>\n",
       "</div>"
      ],
      "text/plain": [
       "           target\n",
       "count  150.000000\n",
       "mean     1.000000\n",
       "std      0.819232\n",
       "min      0.000000\n",
       "25%      0.000000\n",
       "50%      1.000000\n",
       "75%      2.000000\n",
       "max      2.000000"
      ]
     },
     "execution_count": 9,
     "metadata": {},
     "output_type": "execute_result"
    }
   ],
   "source": [
    "# describe df_y\n",
    "df_y.describe()"
   ]
  },
  {
   "cell_type": "markdown",
   "metadata": {},
   "source": [
    "### Standardization of the data\n",
    "\n",
    "It is obvious by looking at the data summary of `df_x` that the features of the dataset are very different in terms of mean values, standard deviations, min-max values etc. This indicates that the data need standardization (mean=0, sd=1) before applying PLSR. The standardization can be applied either by using the **sklearn.preprocessing.scale()** function or the **sklearn.preprocessing.StandardScaler()**. The two standardization ways are virtually the same, with the key difference being that the first is a function, while the latter is a class that implements the *Transformer API*, so it is able to later reapply the same transformation on other dataframes or arrays. Here we will use the **StandardScaler()** on `df_x`, but not on `df_y`, since the `df_y` values (0, 1, 2) represent the three flower classes."
   ]
  },
  {
   "cell_type": "code",
   "execution_count": 10,
   "metadata": {
    "collapsed": true
   },
   "outputs": [],
   "source": [
    "from sklearn.preprocessing import StandardScaler"
   ]
  },
  {
   "cell_type": "code",
   "execution_count": 11,
   "metadata": {
    "collapsed": true
   },
   "outputs": [],
   "source": [
    "# create StandarScaler() object\n",
    "scaler = StandardScaler()"
   ]
  },
  {
   "cell_type": "code",
   "execution_count": 12,
   "metadata": {},
   "outputs": [
    {
     "data": {
      "text/html": [
       "<div>\n",
       "<style>\n",
       "    .dataframe thead tr:only-child th {\n",
       "        text-align: right;\n",
       "    }\n",
       "\n",
       "    .dataframe thead th {\n",
       "        text-align: left;\n",
       "    }\n",
       "\n",
       "    .dataframe tbody tr th {\n",
       "        vertical-align: top;\n",
       "    }\n",
       "</style>\n",
       "<table border=\"1\" class=\"dataframe\">\n",
       "  <thead>\n",
       "    <tr style=\"text-align: right;\">\n",
       "      <th></th>\n",
       "      <th>sepal length (cm)</th>\n",
       "      <th>sepal width (cm)</th>\n",
       "      <th>petal length (cm)</th>\n",
       "      <th>petal width (cm)</th>\n",
       "    </tr>\n",
       "  </thead>\n",
       "  <tbody>\n",
       "    <tr>\n",
       "      <th>count</th>\n",
       "      <td>1.500000e+02</td>\n",
       "      <td>1.500000e+02</td>\n",
       "      <td>1.500000e+02</td>\n",
       "      <td>1.500000e+02</td>\n",
       "    </tr>\n",
       "    <tr>\n",
       "      <th>mean</th>\n",
       "      <td>-1.690315e-15</td>\n",
       "      <td>-1.637024e-15</td>\n",
       "      <td>-1.482518e-15</td>\n",
       "      <td>-1.623146e-15</td>\n",
       "    </tr>\n",
       "    <tr>\n",
       "      <th>std</th>\n",
       "      <td>1.003350e+00</td>\n",
       "      <td>1.003350e+00</td>\n",
       "      <td>1.003350e+00</td>\n",
       "      <td>1.003350e+00</td>\n",
       "    </tr>\n",
       "    <tr>\n",
       "      <th>min</th>\n",
       "      <td>-1.870024e+00</td>\n",
       "      <td>-2.438987e+00</td>\n",
       "      <td>-1.568735e+00</td>\n",
       "      <td>-1.444450e+00</td>\n",
       "    </tr>\n",
       "    <tr>\n",
       "      <th>25%</th>\n",
       "      <td>-9.006812e-01</td>\n",
       "      <td>-5.877635e-01</td>\n",
       "      <td>-1.227541e+00</td>\n",
       "      <td>-1.181504e+00</td>\n",
       "    </tr>\n",
       "    <tr>\n",
       "      <th>50%</th>\n",
       "      <td>-5.250608e-02</td>\n",
       "      <td>-1.249576e-01</td>\n",
       "      <td>3.362659e-01</td>\n",
       "      <td>1.332259e-01</td>\n",
       "    </tr>\n",
       "    <tr>\n",
       "      <th>75%</th>\n",
       "      <td>6.745011e-01</td>\n",
       "      <td>5.692513e-01</td>\n",
       "      <td>7.627586e-01</td>\n",
       "      <td>7.905908e-01</td>\n",
       "    </tr>\n",
       "    <tr>\n",
       "      <th>max</th>\n",
       "      <td>2.492019e+00</td>\n",
       "      <td>3.114684e+00</td>\n",
       "      <td>1.786341e+00</td>\n",
       "      <td>1.710902e+00</td>\n",
       "    </tr>\n",
       "  </tbody>\n",
       "</table>\n",
       "</div>"
      ],
      "text/plain": [
       "       sepal length (cm)  sepal width (cm)  petal length (cm)  \\\n",
       "count       1.500000e+02      1.500000e+02       1.500000e+02   \n",
       "mean       -1.690315e-15     -1.637024e-15      -1.482518e-15   \n",
       "std         1.003350e+00      1.003350e+00       1.003350e+00   \n",
       "min        -1.870024e+00     -2.438987e+00      -1.568735e+00   \n",
       "25%        -9.006812e-01     -5.877635e-01      -1.227541e+00   \n",
       "50%        -5.250608e-02     -1.249576e-01       3.362659e-01   \n",
       "75%         6.745011e-01      5.692513e-01       7.627586e-01   \n",
       "max         2.492019e+00      3.114684e+00       1.786341e+00   \n",
       "\n",
       "       petal width (cm)  \n",
       "count      1.500000e+02  \n",
       "mean      -1.623146e-15  \n",
       "std        1.003350e+00  \n",
       "min       -1.444450e+00  \n",
       "25%       -1.181504e+00  \n",
       "50%        1.332259e-01  \n",
       "75%        7.905908e-01  \n",
       "max        1.710902e+00  "
      ]
     },
     "execution_count": 12,
     "metadata": {},
     "output_type": "execute_result"
    }
   ],
   "source": [
    "# apply standardization on df_x\n",
    "x_std = scaler.fit_transform(df_x)\n",
    "# create dataframe for x_std to use pandas' functions\n",
    "df_x_std = pd.DataFrame(x_std, columns=dataset.feature_names)\n",
    "# describe df_x_std and confirm the standardization\n",
    "df_x_std.describe()"
   ]
  },
  {
   "cell_type": "markdown",
   "metadata": {
    "collapsed": true
   },
   "source": [
    "### Splitting the data\n",
    "\n",
    "To verify that we have a well-working PLSR model it is common practice to split the data into a training set and a testing set. The training set is the one we use to fit our model to the data, while the testing set is the one we use to predict its values using the fitted model. It is easy to split the data of a pandas dataframe by using the **sklearn.model_selection.train_test_split()** function."
   ]
  },
  {
   "cell_type": "code",
   "execution_count": 13,
   "metadata": {
    "collapsed": true
   },
   "outputs": [],
   "source": [
    "from sklearn.model_selection import train_test_split"
   ]
  },
  {
   "cell_type": "code",
   "execution_count": 14,
   "metadata": {
    "collapsed": true
   },
   "outputs": [],
   "source": [
    "# split the data keeping 20% as testing data\n",
    "x_train, x_test, y_train, y_test = train_test_split(df_x_std,  # x dataframe\n",
    "                                                    df_y,  # y dataframe\n",
    "                                                    test_size=0.2,  # size\n",
    "                                                    random_state=4)  # seed"
   ]
  },
  {
   "cell_type": "markdown",
   "metadata": {},
   "source": [
    "It is useful to have a look at the data shapes after the splitting."
   ]
  },
  {
   "cell_type": "code",
   "execution_count": 15,
   "metadata": {},
   "outputs": [
    {
     "data": {
      "text/plain": [
       "((120, 4), (30, 4))"
      ]
     },
     "execution_count": 15,
     "metadata": {},
     "output_type": "execute_result"
    }
   ],
   "source": [
    "# x data shapes\n",
    "x_train.shape, x_test.shape"
   ]
  },
  {
   "cell_type": "code",
   "execution_count": 16,
   "metadata": {},
   "outputs": [
    {
     "data": {
      "text/plain": [
       "((120, 1), (30, 1))"
      ]
     },
     "execution_count": 16,
     "metadata": {},
     "output_type": "execute_result"
    }
   ],
   "source": [
    "# y data shapes\n",
    "y_train.shape, y_test.shape"
   ]
  },
  {
   "cell_type": "markdown",
   "metadata": {
    "collapsed": true
   },
   "source": [
    "### Fitting the model\n",
    "\n",
    "We are now ready to apply the PLSR on the training data using the **sklearn.cross_decomposition.PLSRegression()** function. We will run a simple model with only 2 components."
   ]
  },
  {
   "cell_type": "code",
   "execution_count": 17,
   "metadata": {
    "collapsed": true
   },
   "outputs": [],
   "source": [
    "from sklearn.cross_decomposition import PLSRegression"
   ]
  },
  {
   "cell_type": "code",
   "execution_count": 18,
   "metadata": {},
   "outputs": [
    {
     "data": {
      "text/plain": [
       "PLSRegression(copy=True, max_iter=500, n_components=2, scale=False, tol=1e-06)"
      ]
     },
     "execution_count": 18,
     "metadata": {},
     "output_type": "execute_result"
    }
   ],
   "source": [
    "# create plsr model object\n",
    "pls2 = PLSRegression(n_components=2, max_iter=500, scale=False)\n",
    "# fit plsr model to the training data\n",
    "pls2.fit(x_train, y_train)"
   ]
  },
  {
   "cell_type": "markdown",
   "metadata": {},
   "source": [
    "We can use the **predict()** attribute of our PLSR model on our test data (`x_test`) and compare them to the expected (`y_test`)."
   ]
  },
  {
   "cell_type": "code",
   "execution_count": 19,
   "metadata": {
    "collapsed": true
   },
   "outputs": [],
   "source": [
    "# use plsr model to predict the target data\n",
    "y_pred = pls2.predict(x_test)"
   ]
  },
  {
   "cell_type": "markdown",
   "metadata": {},
   "source": [
    "We can also calculate the $R^{2}$ score between the predicted and the target data using the **sklearn.metrics.r2_score()** function."
   ]
  },
  {
   "cell_type": "code",
   "execution_count": 20,
   "metadata": {
    "collapsed": true
   },
   "outputs": [],
   "source": [
    "from sklearn.metrics import r2_score"
   ]
  },
  {
   "cell_type": "code",
   "execution_count": 21,
   "metadata": {},
   "outputs": [
    {
     "data": {
      "text/plain": [
       "0.92112694015376584"
      ]
     },
     "execution_count": 21,
     "metadata": {},
     "output_type": "execute_result"
    }
   ],
   "source": [
    "r2_score(y_pred, y_test)"
   ]
  },
  {
   "cell_type": "markdown",
   "metadata": {},
   "source": [
    "As we see, the $R^{2}$ score is pretty close to 1, meaning that our model fits the test data pretty well. The same good relationship between the predicted and target data can be visualized by plotting them."
   ]
  },
  {
   "cell_type": "code",
   "execution_count": 22,
   "metadata": {
    "collapsed": true
   },
   "outputs": [],
   "source": [
    "import numpy as np\n",
    "import matplotlib.pyplot as plt\n",
    "plt.style.use('ggplot')"
   ]
  },
  {
   "cell_type": "code",
   "execution_count": 23,
   "metadata": {},
   "outputs": [
    {
     "data": {
      "image/png": "[encoded data removed]",
      "text/plain": [
       "<matplotlib.figure.Figure at 0x7f6eecd796d8>"
      ]
     },
     "metadata": {},
     "output_type": "display_data"
    }
   ],
   "source": [
    "fig = plt.figure(figsize=(13, 6))\n",
    "\n",
    "x = np.linspace(0, y_test.shape[0], y_test.shape[0])\n",
    "\n",
    "plt.title('Target and predicted data')\n",
    "\n",
    "plt.plot(x, y_test, '-o', color='teal', label='target data', alpha=0.75)\n",
    "plt.plot(x, y_pred, '-D', color='orangered',\n",
    "         label='predicted data', alpha=0.75)\n",
    "\n",
    "plt.legend(facecolor='white')\n",
    "plt.tight_layout()\n",
    "plt.show()"
   ]
  },
  {
   "cell_type": "markdown",
   "metadata": {},
   "source": [
    "### Cross-validation\n",
    "\n",
    "As we see, our model predicts the target values fairly well, but *could it be better*? Maybe, by selecting another number of PLSR components for our model.\n",
    "\n",
    "The suggested way to determine the optimal number of PLSR components to keep doing this is using the *cross-validation* method. Cross-validation splits the data to multiple training and test sets and then provides an estimate (score) on how well our model is performing on every splitted set. The highest the score, the better our model performs. We will use the **sklearn.model_selection.cross_val_score()** function to cross-validate the training data."
   ]
  },
  {
   "cell_type": "code",
   "execution_count": 24,
   "metadata": {
    "collapsed": true
   },
   "outputs": [],
   "source": [
    "from sklearn.model_selection import cross_val_score"
   ]
  },
  {
   "cell_type": "code",
   "execution_count": 25,
   "metadata": {},
   "outputs": [
    {
     "name": "stdout",
     "output_type": "stream",
     "text": [
      "Cross-validation scores:\n",
      "Components:  1: [ 0.92607915  0.80969928  0.83902629  0.92610579  0.88213008]\n",
      "Components:  2: [ 0.93944677  0.88475383  0.85847678  0.93155921  0.91635111]\n",
      "Components:  3: [ 0.94750768  0.88275306  0.89508841  0.95115666  0.91857926]\n",
      "Components:  4: [ 0.94821772  0.88430437  0.89576383  0.93589557  0.91970402]\n"
     ]
    }
   ],
   "source": [
    "# initialize cross-validation score list\n",
    "cv_scores = []\n",
    "\n",
    "print('Cross-validation scores:')\n",
    "\n",
    "for i in range(x_train.shape[1]):\n",
    "    # create plsr object\n",
    "    plsi = PLSRegression(n_components=i + 1, max_iter=500, scale=False)\n",
    "    # fit plsr object\n",
    "    plsi.fit(x_train, y_train)\n",
    "    # calculate cross-validation scores\n",
    "    score = cross_val_score(plsi, x_train, y_train, cv=5)\n",
    "    # append scores to cross-validation score list\n",
    "    cv_scores.append(score)\n",
    "    # print cross-validation scores for each number of plsr components\n",
    "    print('Components: {:2d}: {}'.format(i + 1, cv_scores[i]))"
   ]
  },
  {
   "cell_type": "markdown",
   "metadata": {
    "collapsed": true
   },
   "source": [
    "**cross_val_score()** calculates the cross-validation score for each splitted train/test set. The number of train/test sets is defined by the `cv` parameter. It is obvious that the more components we take into account, the higher the score (with minor fluctuations - not really obvious in this dataset).\n",
    "\n",
    "A more meaningful way to display cross-validation scores is by displaying the mean cross validation score +/- the standard deviation for each number of components, instead of dipslaying the cross-validation score for for every train/test set. This can be done by using the numpy's **mean()** and **std()** attributes."
   ]
  },
  {
   "cell_type": "code",
   "execution_count": 26,
   "metadata": {},
   "outputs": [
    {
     "name": "stdout",
     "output_type": "stream",
     "text": [
      "Cross-validation scores:\n",
      "Components:  1: 0.88 (+/- 0.05)\n",
      "Components:  2: 0.91 (+/- 0.03)\n",
      "Components:  3: 0.92 (+/- 0.03)\n",
      "Components:  4: 0.92 (+/- 0.02)\n"
     ]
    }
   ],
   "source": [
    "cv_scores_mean = []\n",
    "cv_scores_std = []\n",
    "\n",
    "print('Cross-validation scores:')\n",
    "\n",
    "for i in range(len(cv_scores)):\n",
    "    cv_scores_mean.append(cv_scores[i].mean())\n",
    "    cv_scores_std.append(cv_scores[i].std())\n",
    "    print('Components: {:2d}: {:.2f} (+/- {:.2f})'\n",
    "          .format(i + 1, cv_scores_mean[i], cv_scores_std[i]))"
   ]
  },
  {
   "cell_type": "markdown",
   "metadata": {
    "collapsed": true
   },
   "source": [
    "It is useful to plot these cross-validation scores as a function of the number of components used for the PLSR."
   ]
  },
  {
   "cell_type": "code",
   "execution_count": 27,
   "metadata": {},
   "outputs": [
    {
     "data": {
      "image/png": "[encoded data removed]",
      "text/plain": [
       "<matplotlib.figure.Figure at 0x7f6eeccbee80>"
      ]
     },
     "metadata": {},
     "output_type": "display_data"
    }
   ],
   "source": [
    "fig, ax = plt.subplots(figsize=(13, 6))\n",
    "\n",
    "x = [i for i in range(len(cv_scores_mean))]\n",
    "\n",
    "plt.title('CV scores vs number of components')\n",
    "plt.plot(x, cv_scores_mean, '-o', color='teal')\n",
    "\n",
    "### text over line-points  ###\n",
    "yticks = ax.get_yticks()  # get y-axis ticks positions\n",
    "offset = (yticks[-1] - yticks[-2]) * 0.1  # calculate y-axis offset\n",
    "\n",
    "for i in range(0, len(cv_scores_mean)):\n",
    "    ax.text(x[i], cv_scores_mean[i] + offset,  # x-y coordinates\n",
    "            '{:.3f}%'.format(cv_scores_mean[i]),  # text and formatting\n",
    "            ha='center',  # horizontal alignment\n",
    "            va='bottom',  # vertical alignment\n",
    "            fontsize=12)  # font size\n",
    "\n",
    "plt.ylim(0.875, 0.9225)\n",
    "plt.xticks(x)\n",
    "plt.xlabel('Number of components')\n",
    "plt.ylabel('Cross-validation score')\n",
    "\n",
    "plt.tight_layout()\n",
    "plt.show()"
   ]
  },
  {
   "cell_type": "markdown",
   "metadata": {},
   "source": [
    "As shown in the above plot, there is a small maximum at 3 components. However, it is clear that the difference between using 2 components and more than 2 is so small that our model should provide satisfactory results even with only 2 components."
   ]
  },
  {
   "cell_type": "code",
   "execution_count": 28,
   "metadata": {},
   "outputs": [
    {
     "data": {
      "text/plain": [
       "PLSRegression(copy=True, max_iter=500, n_components=2, scale=False, tol=1e-06)"
      ]
     },
     "execution_count": 28,
     "metadata": {},
     "output_type": "execute_result"
    }
   ],
   "source": [
    "pls = PLSRegression(n_components=2, max_iter=500, scale=False)\n",
    "pls.fit(x_train, y_train)"
   ]
  },
  {
   "cell_type": "markdown",
   "metadata": {},
   "source": [
    "### PLSR scores\n",
    "\n",
    "The PLSR scores describe the position of each sample in each determined latent vector (LV). We can have a look at the PLSR scores usind the **x\\_scores\\_** and **y\\_scores\\_** attributes."
   ]
  },
  {
   "cell_type": "code",
   "execution_count": 50,
   "metadata": {},
   "outputs": [
    {
     "data": {
      "text/plain": [
       "array([[ 0.12472832, -0.71643029],\n",
       "       [-2.51844085, -0.21580122],\n",
       "       [ 1.84177389,  0.14275068],\n",
       "       [-2.2301735 ,  0.05011562],\n",
       "       [-0.52243206, -0.7188879 ]])"
      ]
     },
     "execution_count": 50,
     "metadata": {},
     "output_type": "execute_result"
    }
   ],
   "source": [
    "pls.x_scores_[0:5, :]  # print first 5 x_scores"
   ]
  },
  {
   "cell_type": "code",
   "execution_count": 49,
   "metadata": {},
   "outputs": [
    {
     "data": {
      "text/plain": [
       "array([[-0.12959527,  0.38668628],\n",
       "       [-2.3512284 , -0.25423817],\n",
       "       [ 2.09203787, -0.38051385],\n",
       "       [-2.3512284 ,  0.18405792],\n",
       "       [-0.12959527, -0.59728869]])"
      ]
     },
     "execution_count": 49,
     "metadata": {},
     "output_type": "execute_result"
    }
   ],
   "source": [
    "pls.y_scores_[0:5, :]  # print first 5 y_scores"
   ]
  },
  {
   "cell_type": "markdown",
   "metadata": {},
   "source": [
    "The PLSR x_scores are usually used in Partial Least Squares Discriminant Analysis (PLS-DA),"
   ]
  },
  {
   "cell_type": "code",
   "execution_count": 29,
   "metadata": {
    "collapsed": true
   },
   "outputs": [],
   "source": [
    "colors = {0: 'teal',\n",
    "          1: 'orangered',\n",
    "          2: 'olive'}"
   ]
  },
  {
   "cell_type": "code",
   "execution_count": 30,
   "metadata": {
    "collapsed": true
   },
   "outputs": [],
   "source": [
    "from matplotlib.patches import Ellipse"
   ]
  },
  {
   "cell_type": "code",
   "execution_count": 31,
   "metadata": {
    "collapsed": true
   },
   "outputs": [],
   "source": [
    "def ellipse(x, y, color):\n",
    "    cov_mat = np.cov(x, y)\n",
    "    evals, evecs = np.linalg.eig(cov_mat)\n",
    "    print('Evals: ', evals / sum(evals))\n",
    "    print('Evecs: ', evecs)\n",
    "\n",
    "    ax = plt.gca()\n",
    "\n",
    "    ax.add_patch(Ellipse((np.mean(x), np.mean(y)),\n",
    "                         2 * np.sqrt(5.991 * evals[0]), 2 *\n",
    "                         np.sqrt(5.991 * evals[1]),\n",
    "                         alpha=0.5,\n",
    "                         fill=False,\n",
    "                         edgecolor=color,\n",
    "                         linewidth=1.5,\n",
    "                         linestyle='--',\n",
    "                         angle=-np.degrees(np.arctan(evecs[0][1] / evecs[0][0]))))"
   ]
  },
  {
   "cell_type": "code",
   "execution_count": 32,
   "metadata": {},
   "outputs": [
    {
     "name": "stdout",
     "output_type": "stream",
     "text": [
      "Evals:  [ 0.21391283  0.78608717]\n",
      "Evecs:  [[-0.9702774 -0.2419954]\n",
      " [ 0.2419954 -0.9702774]]\n",
      "Evals:  [ 0.90115496  0.09884504]\n",
      "Evecs:  [[ 0.72054394 -0.69340928]\n",
      " [ 0.69340928  0.72054394]]\n",
      "Evals:  [ 0.87154396  0.12845604]\n",
      "Evecs:  [[ 0.70759808 -0.70661514]\n",
      " [ 0.70661514  0.70759808]]\n"
     ]
    },
    {
     "data": {
      "image/png": "[encoded data removed]",
      "text/plain": [
       "<matplotlib.figure.Figure at 0x7f6eecc96278>"
      ]
     },
     "metadata": {},
     "output_type": "display_data"
    }
   ],
   "source": [
    "fig = plt.figure(figsize=(13, 6))\n",
    "\n",
    "plt.title('PLSR scores plot')\n",
    "\n",
    "for key in colors:\n",
    "    plt.scatter(pls.x_scores_[y_train.target == key, 0], pls.x_scores_[\n",
    "                y_train.target == key, 1], color=colors[key], s=50, alpha=0.75)\n",
    "    ellipse(pls.x_scores_[y_train.target == key, 0], pls.x_scores_[\n",
    "            y_train.target == key, 1], color=colors[key])\n",
    "\n",
    "plt.xlabel('x0')\n",
    "plt.ylabel('x1')\n",
    "\n",
    "plt.tight_layout()\n",
    "plt.show()"
   ]
  },
  {
   "cell_type": "code",
   "execution_count": 33,
   "metadata": {},
   "outputs": [
    {
     "data": {
      "image/png": "[encoded data removed]",
      "text/plain": [
       "<matplotlib.figure.Figure at 0x7f6eecc2a780>"
      ]
     },
     "metadata": {},
     "output_type": "display_data"
    }
   ],
   "source": [
    "fig = plt.figure(figsize=(13, 6))\n",
    "\n",
    "plt.title('PLSR scores plot')\n",
    "\n",
    "for key in colors:\n",
    "    plt.scatter(pls.y_scores_[y_train.target == key, 0], pls.y_scores_[\n",
    "                y_train.target == key, 1], color=colors[key], s=50, alpha=0.75)\n",
    "\n",
    "plt.xlabel('y0')\n",
    "plt.ylabel('y1')\n",
    "\n",
    "plt.tight_layout()\n",
    "plt.show()"
   ]
  },
  {
   "cell_type": "code",
   "execution_count": 34,
   "metadata": {},
   "outputs": [
    {
     "data": {
      "image/png": "[encoded data removed]",
      "text/plain": [
       "<matplotlib.figure.Figure at 0x7f6eecc156d8>"
      ]
     },
     "metadata": {},
     "output_type": "display_data"
    }
   ],
   "source": [
    "fig = plt.figure(figsize=(13, 6))\n",
    "\n",
    "plt.title('PLSR scores plot')\n",
    "\n",
    "for key in colors:\n",
    "    plt.scatter(pls.x_scores_[y_train.target == key, 0], pls.y_scores_[\n",
    "                y_train.target == key, 0], color=colors[key], s=50, alpha=0.75)\n",
    "\n",
    "plt.xlabel('x0')\n",
    "plt.ylabel('y0')\n",
    "\n",
    "plt.tight_layout()\n",
    "plt.show()"
   ]
  },
  {
   "cell_type": "code",
   "execution_count": 35,
   "metadata": {},
   "outputs": [
    {
     "name": "stdout",
     "output_type": "stream",
     "text": [
      "Evals:  [ 0.66861381  0.33138619]\n",
      "Evecs:  [[ 0.83795015 -0.54574677]\n",
      " [ 0.54574677  0.83795015]]\n",
      "Evals:  [ 0.0796447  0.9203553]\n",
      "Evecs:  [[-0.86649842 -0.49917981]\n",
      " [ 0.49917981 -0.86649842]]\n",
      "Evals:  [ 0.10542846  0.89457154]\n",
      "Evecs:  [[-0.86689997 -0.49848214]\n",
      " [ 0.49848214 -0.86689997]]\n"
     ]
    },
    {
     "data": {
      "image/png": "[encoded data removed]",
      "text/plain": [
       "<matplotlib.figure.Figure at 0x7f6eeccbec18>"
      ]
     },
     "metadata": {},
     "output_type": "display_data"
    }
   ],
   "source": [
    "fig = plt.figure(figsize=(13, 6))\n",
    "\n",
    "plt.title('PLSR scores plot')\n",
    "\n",
    "for key in colors:\n",
    "    plt.scatter(pls.x_scores_[y_train.target == key, 1], pls.y_scores_[\n",
    "                y_train.target == key, 1], color=colors[key], s=50, alpha=0.75)\n",
    "    ellipse(pls.x_scores_[y_train.target == key, 1], pls.y_scores_[\n",
    "            y_train.target == key, 1], color=colors[key])\n",
    "\n",
    "plt.xlabel('x1')\n",
    "plt.ylabel('y1')\n",
    "\n",
    "plt.tight_layout()\n",
    "plt.show()"
   ]
  },
  {
   "cell_type": "markdown",
   "metadata": {},
   "source": [
    "### PLSR loadings"
   ]
  },
  {
   "cell_type": "code",
   "execution_count": 36,
   "metadata": {},
   "outputs": [
    {
     "data": {
      "image/png": "[encoded data removed]",
      "text/plain": [
       "<matplotlib.figure.Figure at 0x7f6eecb6aa90>"
      ]
     },
     "metadata": {},
     "output_type": "display_data"
    }
   ],
   "source": [
    "fig = plt.figure(figsize=(13, 6))\n",
    "\n",
    "plt.title('PLSR loadings plot')\n",
    "\n",
    "plt.scatter(pls.x_loadings_[:, 0], pls.x_loadings_[\n",
    "            :, 1], color='teal', s=50, alpha=0.75)\n",
    "\n",
    "plt.xlabel('x0')\n",
    "plt.ylabel('x1')\n",
    "\n",
    "plt.tight_layout()\n",
    "plt.show()"
   ]
  },
  {
   "cell_type": "code",
   "execution_count": 37,
   "metadata": {},
   "outputs": [
    {
     "data": {
      "image/png": "[encoded data removed]",
      "text/plain": [
       "<matplotlib.figure.Figure at 0x7f6eecbbcbe0>"
      ]
     },
     "metadata": {},
     "output_type": "display_data"
    }
   ],
   "source": [
    "fig = plt.figure(figsize=(13, 6))\n",
    "\n",
    "plt.title('PLSR loadings plot')\n",
    "\n",
    "plt.scatter(pls.y_loadings_[:, 0], pls.y_loadings_[\n",
    "            :, 1], color='teal', s=50, alpha=0.75)\n",
    "\n",
    "plt.xlabel('y0')\n",
    "plt.ylabel('y1')\n",
    "\n",
    "plt.tight_layout()\n",
    "plt.show()"
   ]
  },
  {
   "cell_type": "code",
   "execution_count": 38,
   "metadata": {},
   "outputs": [
    {
     "data": {
      "text/plain": [
       "array([[-0.17280929],\n",
       "       [-0.98306778],\n",
       "       [ 1.05431532],\n",
       "       [-1.11282248],\n",
       "       [ 0.1184901 ],\n",
       "       [ 1.01844541],\n",
       "       [ 1.06366953],\n",
       "       [-0.19731872],\n",
       "       [-0.52595577],\n",
       "       [-0.99844578],\n",
       "       [ 0.68776467],\n",
       "       [-1.05563413],\n",
       "       [-0.44549528],\n",
       "       [-1.08849119],\n",
       "       [ 1.09663942],\n",
       "       [-0.87178144],\n",
       "       [-1.06671445],\n",
       "       [-0.26169518],\n",
       "       [-0.33960111],\n",
       "       [ 1.27643449],\n",
       "       [-1.08442877],\n",
       "       [-0.11801775],\n",
       "       [ 0.46901917],\n",
       "       [ 1.20073765],\n",
       "       [-0.31063626],\n",
       "       [-0.16184205],\n",
       "       [-1.18799597],\n",
       "       [-0.04521614],\n",
       "       [ 1.39386703],\n",
       "       [-0.17693676],\n",
       "       [-0.96913259],\n",
       "       [-0.09536933],\n",
       "       [-1.08239756],\n",
       "       [-0.36416311],\n",
       "       [ 1.08955648],\n",
       "       [-0.66667772],\n",
       "       [ 1.31474875],\n",
       "       [-0.26999023],\n",
       "       [-1.0675381 ],\n",
       "       [ 1.76628827],\n",
       "       [ 1.01124483],\n",
       "       [-1.23374632],\n",
       "       [-0.10100946],\n",
       "       [ 1.08056787],\n",
       "       [-0.99119262],\n",
       "       [ 1.47335067],\n",
       "       [-0.53164848],\n",
       "       [ 1.49692336],\n",
       "       [-0.59724952],\n",
       "       [-1.0675381 ],\n",
       "       [ 1.41169922],\n",
       "       [-0.39097912],\n",
       "       [ 0.94935788],\n",
       "       [-1.13476488],\n",
       "       [ 1.22342619],\n",
       "       [-0.22675433],\n",
       "       [ 1.10250235],\n",
       "       [-0.15760942],\n",
       "       [ 1.4139609 ],\n",
       "       [-0.26367381],\n",
       "       [-0.40868097],\n",
       "       [ 1.29298448],\n",
       "       [-0.17159719],\n",
       "       [-0.44346407],\n",
       "       [ 1.2610469 ],\n",
       "       [-0.27871594],\n",
       "       [-0.11650509],\n",
       "       [-0.82423059],\n",
       "       [ 1.0194873 ],\n",
       "       [-1.24367166],\n",
       "       [-0.60636368],\n",
       "       [-1.06172776],\n",
       "       [-0.06808735],\n",
       "       [-0.33298413],\n",
       "       [-0.1772899 ],\n",
       "       [-0.05050314],\n",
       "       [-1.0782175 ],\n",
       "       [ 1.09019266],\n",
       "       [ 1.51509118],\n",
       "       [-0.10158059],\n",
       "       [ 0.1505931 ],\n",
       "       [-0.0246114 ],\n",
       "       [-1.02277707],\n",
       "       [-1.0941839 ],\n",
       "       [ 1.0763751 ],\n",
       "       [ 1.48664488],\n",
       "       [-0.97661646],\n",
       "       [-1.1215883 ],\n",
       "       [-0.91456384],\n",
       "       [ 1.20497028],\n",
       "       [-1.036477  ],\n",
       "       [-0.90050624],\n",
       "       [ 1.24565642],\n",
       "       [ 1.00805409],\n",
       "       [-0.22633614],\n",
       "       [-1.06538926],\n",
       "       [-1.00373757],\n",
       "       [-1.091281  ],\n",
       "       [ 0.83128915],\n",
       "       [-0.40496688],\n",
       "       [-1.0792594 ],\n",
       "       [-1.04268826],\n",
       "       [ 0.89375203],\n",
       "       [-0.60943678],\n",
       "       [ 1.4120999 ],\n",
       "       [-0.96402827],\n",
       "       [-1.11443551],\n",
       "       [ 1.25030724],\n",
       "       [ 0.16998574],\n",
       "       [-0.23150551],\n",
       "       [-0.18454306],\n",
       "       [ 0.8989166 ],\n",
       "       [ 1.29025204],\n",
       "       [-0.46262121],\n",
       "       [ 1.32793013],\n",
       "       [-0.54598459],\n",
       "       [-0.50077006],\n",
       "       [ 1.08938627],\n",
       "       [ 1.11521775],\n",
       "       [ 0.65502549]])"
      ]
     },
     "execution_count": 38,
     "metadata": {},
     "output_type": "execute_result"
    }
   ],
   "source": [
    "y = pls.y_scores_.dot(pls.y_loadings_.T)\n",
    "y"
   ]
  },
  {
   "cell_type": "code",
   "execution_count": 39,
   "metadata": {},
   "outputs": [
    {
     "data": {
      "image/png": "[encoded data removed]",
      "text/plain": [
       "<matplotlib.figure.Figure at 0x7f6eecc3d898>"
      ]
     },
     "metadata": {},
     "output_type": "display_data"
    }
   ],
   "source": [
    "plt.figure(figsize=(13, 6))\n",
    "\n",
    "x = np.linspace(0, len(y), len(y))\n",
    "fit = np.polyfit(x, y, 1)\n",
    "\n",
    "plt.scatter(x, y, color='teal', alpha=0.75)\n",
    "plt.plot(x, fit[1] + fit[0] * x, color='orangered')\n",
    "\n",
    "plt.ylim(-20, 20)\n",
    "\n",
    "plt.tight_layout()\n",
    "plt.show()"
   ]
  },
  {
   "cell_type": "code",
   "execution_count": 40,
   "metadata": {
    "collapsed": true
   },
   "outputs": [],
   "source": [
    "from sklearn.metrics import confusion_matrix"
   ]
  },
  {
   "cell_type": "code",
   "execution_count": 41,
   "metadata": {
    "collapsed": true
   },
   "outputs": [],
   "source": [
    "aaa = [np.int(i) for i in pls.predict(x_train)]"
   ]
  },
  {
   "cell_type": "code",
   "execution_count": null,
   "metadata": {
    "collapsed": true
   },
   "outputs": [],
   "source": []
  },
  {
   "cell_type": "code",
   "execution_count": null,
   "metadata": {
    "collapsed": true
   },
   "outputs": [],
   "source": []
  },
  {
   "cell_type": "code",
   "execution_count": null,
   "metadata": {
    "collapsed": true
   },
   "outputs": [],
   "source": []
  },
  {
   "cell_type": "code",
   "execution_count": null,
   "metadata": {
    "collapsed": true
   },
   "outputs": [],
   "source": []
  },
  {
   "cell_type": "code",
   "execution_count": 42,
   "metadata": {},
   "outputs": [
    {
     "data": {
      "text/plain": [
       "array([[34,  0,  0],\n",
       "       [ 2, 43,  0],\n",
       "       [ 0, 35,  6]])"
      ]
     },
     "execution_count": 42,
     "metadata": {},
     "output_type": "execute_result"
    }
   ],
   "source": [
    "confusion_matrix(y_train.values, aaa)"
   ]
  },
  {
   "cell_type": "code",
   "execution_count": 43,
   "metadata": {},
   "outputs": [
    {
     "data": {
      "text/plain": [
       "array([[ 1.32657048],\n",
       "       [-0.01137901],\n",
       "       [ 1.84509094],\n",
       "       [ 0.03965275],\n",
       "       [ 1.03599865],\n",
       "       [ 2.00108966],\n",
       "       [ 1.66837903],\n",
       "       [ 1.17155206],\n",
       "       [ 1.30511217],\n",
       "       [-0.15933755],\n",
       "       [ 2.0211296 ],\n",
       "       [-0.0598424 ],\n",
       "       [ 1.19441043],\n",
       "       [-0.15473583],\n",
       "       [ 1.96063955],\n",
       "       [-0.05809903],\n",
       "       [-0.24714087],\n",
       "       [ 1.26274886],\n",
       "       [ 1.27146708],\n",
       "       [ 1.65261076],\n",
       "       [-0.09291243],\n",
       "       [ 1.12927367],\n",
       "       [ 2.27755636],\n",
       "       [ 1.90562118],\n",
       "       [ 1.18736038],\n",
       "       [ 1.18047536],\n",
       "       [ 0.15976794],\n",
       "       [ 1.07657373],\n",
       "       [ 1.63203078],\n",
       "       [ 1.24873369],\n",
       "       [-0.01121399],\n",
       "       [ 1.13620366],\n",
       "       [-0.06200073],\n",
       "       [ 1.18304373],\n",
       "       [ 1.81915107],\n",
       "       [ 1.50223904],\n",
       "       [ 1.63974091],\n",
       "       [ 1.2562788 ],\n",
       "       [-0.02909573],\n",
       "       [ 1.5964725 ],\n",
       "       [ 1.91018285],\n",
       "       [ 0.04686781],\n",
       "       [ 1.1425087 ],\n",
       "       [ 2.06275295],\n",
       "       [-0.1350258 ],\n",
       "       [ 1.55518412],\n",
       "       [ 1.37801228],\n",
       "       [ 1.59485409],\n",
       "       [ 1.52161902],\n",
       "       [-0.02909573],\n",
       "       [ 1.56324716],\n",
       "       [ 1.24748046],\n",
       "       [ 1.88338272],\n",
       "       [-0.13474073],\n",
       "       [ 1.76334765],\n",
       "       [ 1.32195892],\n",
       "       [ 1.77056271],\n",
       "       [ 1.12512203],\n",
       "       [ 1.7409443 ],\n",
       "       [ 1.1652421 ],\n",
       "       [ 1.48431737],\n",
       "       [ 1.81475443],\n",
       "       [ 1.19155207],\n",
       "       [ 1.22532212],\n",
       "       [ 2.00054974],\n",
       "       [ 1.16690536],\n",
       "       [ 1.04513183],\n",
       "       [-0.19709913],\n",
       "       [ 1.98324798],\n",
       "       [ 0.17512125],\n",
       "       [ 1.34921885],\n",
       "       [-0.1525775 ],\n",
       "       [ 1.25341553],\n",
       "       [ 1.23130696],\n",
       "       [ 1.26445218],\n",
       "       [ 1.06716028],\n",
       "       [-0.050759  ],\n",
       "       [ 1.88362295],\n",
       "       [ 1.53966579],\n",
       "       [ 1.09405023],\n",
       "       [ 0.98097537],\n",
       "       [ 0.96998357],\n",
       "       [ 0.03505102],\n",
       "       [-0.08183572],\n",
       "       [ 1.83287626],\n",
       "       [ 1.73882603],\n",
       "       [-0.31833766],\n",
       "       [ 0.09948284],\n",
       "       [-0.02473901],\n",
       "       [ 1.85026785],\n",
       "       [-0.06627733],\n",
       "       [-0.32310441],\n",
       "       [ 1.76998274],\n",
       "       [ 1.9476945 ],\n",
       "       [ 1.32225383],\n",
       "       [-0.04876569],\n",
       "       [ 0.07919776],\n",
       "       [ 0.04841102],\n",
       "       [ 1.83949084],\n",
       "       [ 1.3139105 ],\n",
       "       [-0.03291731],\n",
       "       [-0.10843076],\n",
       "       [ 1.66680067],\n",
       "       [ 1.33614883],\n",
       "       [ 1.59285587],\n",
       "       [ 0.03276773],\n",
       "       [ 0.00903596],\n",
       "       [ 1.71492431],\n",
       "       [ 1.00940361],\n",
       "       [ 1.26225871],\n",
       "       [ 1.24014043],\n",
       "       [ 1.97474455],\n",
       "       [ 1.70335745],\n",
       "       [ 1.23175705],\n",
       "       [ 1.62601572],\n",
       "       [ 1.21221205],\n",
       "       [ 1.37539894],\n",
       "       [ 1.9363278 ],\n",
       "       [ 1.57518892],\n",
       "       [ 2.01168101]])"
      ]
     },
     "execution_count": 43,
     "metadata": {},
     "output_type": "execute_result"
    }
   ],
   "source": [
    "pls.predict(x_train)"
   ]
  },
  {
   "cell_type": "code",
   "execution_count": 44,
   "metadata": {},
   "outputs": [
    {
     "data": {
      "text/plain": [
       "array([[1],\n",
       "       [0],\n",
       "       [2],\n",
       "       [0],\n",
       "       [1],\n",
       "       [2],\n",
       "       [2],\n",
       "       [1],\n",
       "       [1],\n",
       "       [0],\n",
       "       [2],\n",
       "       [0],\n",
       "       [1],\n",
       "       [0],\n",
       "       [2],\n",
       "       [0],\n",
       "       [0],\n",
       "       [1],\n",
       "       [1],\n",
       "       [2],\n",
       "       [0],\n",
       "       [1],\n",
       "       [2],\n",
       "       [2],\n",
       "       [1],\n",
       "       [1],\n",
       "       [0],\n",
       "       [1],\n",
       "       [2],\n",
       "       [1],\n",
       "       [0],\n",
       "       [1],\n",
       "       [0],\n",
       "       [1],\n",
       "       [2],\n",
       "       [1],\n",
       "       [2],\n",
       "       [1],\n",
       "       [0],\n",
       "       [2],\n",
       "       [2],\n",
       "       [0],\n",
       "       [1],\n",
       "       [2],\n",
       "       [0],\n",
       "       [2],\n",
       "       [1],\n",
       "       [2],\n",
       "       [1],\n",
       "       [0],\n",
       "       [2],\n",
       "       [1],\n",
       "       [2],\n",
       "       [0],\n",
       "       [2],\n",
       "       [1],\n",
       "       [2],\n",
       "       [1],\n",
       "       [2],\n",
       "       [1],\n",
       "       [1],\n",
       "       [2],\n",
       "       [1],\n",
       "       [1],\n",
       "       [2],\n",
       "       [1],\n",
       "       [1],\n",
       "       [0],\n",
       "       [2],\n",
       "       [0],\n",
       "       [1],\n",
       "       [0],\n",
       "       [1],\n",
       "       [1],\n",
       "       [1],\n",
       "       [1],\n",
       "       [0],\n",
       "       [2],\n",
       "       [2],\n",
       "       [1],\n",
       "       [1],\n",
       "       [1],\n",
       "       [0],\n",
       "       [0],\n",
       "       [2],\n",
       "       [2],\n",
       "       [0],\n",
       "       [0],\n",
       "       [0],\n",
       "       [2],\n",
       "       [0],\n",
       "       [0],\n",
       "       [2],\n",
       "       [2],\n",
       "       [1],\n",
       "       [0],\n",
       "       [0],\n",
       "       [0],\n",
       "       [2],\n",
       "       [1],\n",
       "       [0],\n",
       "       [0],\n",
       "       [2],\n",
       "       [1],\n",
       "       [2],\n",
       "       [0],\n",
       "       [0],\n",
       "       [2],\n",
       "       [1],\n",
       "       [1],\n",
       "       [1],\n",
       "       [2],\n",
       "       [2],\n",
       "       [1],\n",
       "       [2],\n",
       "       [1],\n",
       "       [1],\n",
       "       [2],\n",
       "       [2],\n",
       "       [2]])"
      ]
     },
     "execution_count": 44,
     "metadata": {},
     "output_type": "execute_result"
    }
   ],
   "source": [
    "y_train.values"
   ]
  },
  {
   "cell_type": "code",
   "execution_count": null,
   "metadata": {
    "collapsed": true
   },
   "outputs": [],
   "source": []
  }
 ],
 "metadata": {
  "kernelspec": {
   "display_name": "Python 3",
   "language": "python",
   "name": "python3"
  },
  "language_info": {
   "codemirror_mode": {
    "name": "ipython",
    "version": 3
   },
   "file_extension": ".py",
   "mimetype": "text/x-python",
   "name": "python",
   "nbconvert_exporter": "python",
   "pygments_lexer": "ipython3",
   "version": "3.6.3"
  }
 },
 "nbformat": 4,
 "nbformat_minor": 2
}
