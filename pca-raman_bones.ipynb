{
 "cells": [
  {
   "cell_type": "markdown",
   "metadata": {},
   "source": [
    "# PCA on Raman spectra of bones\n",
    "\n",
    "In this notebook we will apply the Principal Components Analysis (PCA) technique on Raman spectra of bones with the purpose of reducing the dimensionality of the spectra and to find out a possible correlation between them. All spectra have already been preproccesed (smoothed, background corrected etc.) and are stored in a .xlsx file."
   ]
  },
  {
   "cell_type": "markdown",
   "metadata": {},
   "source": [
    "## Loading the data\n",
    "\n",
    "Let's load the data in a pandas dataframe using the **pandas.read_excel()** function to see what's inside the .xlsx file."
   ]
  },
  {
   "cell_type": "code",
   "execution_count": 1,
   "metadata": {
    "collapsed": true
   },
   "outputs": [],
   "source": [
    "import pandas as pd\n",
    "import numpy as np"
   ]
  },
  {
   "cell_type": "code",
   "execution_count": 2,
   "metadata": {},
   "outputs": [
    {
     "data": {
      "text/html": [
       "<div>\n",
       "<style>\n",
       "    .dataframe thead tr:only-child th {\n",
       "        text-align: right;\n",
       "    }\n",
       "\n",
       "    .dataframe thead th {\n",
       "        text-align: left;\n",
       "    }\n",
       "\n",
       "    .dataframe tbody tr th {\n",
       "        vertical-align: top;\n",
       "    }\n",
       "</style>\n",
       "<table border=\"1\" class=\"dataframe\">\n",
       "  <thead>\n",
       "    <tr style=\"text-align: right;\">\n",
       "      <th></th>\n",
       "      <th>SP_12</th>\n",
       "      <th>SP_13</th>\n",
       "      <th>SP_14</th>\n",
       "      <th>SP_16</th>\n",
       "      <th>SP_17</th>\n",
       "      <th>SP_18</th>\n",
       "      <th>SP_21</th>\n",
       "      <th>SP_23</th>\n",
       "      <th>SP_7</th>\n",
       "      <th>SP_9</th>\n",
       "    </tr>\n",
       "  </thead>\n",
       "  <tbody>\n",
       "    <tr>\n",
       "      <th>Raman shift [1/cm]</th>\n",
       "      <td>Intensity</td>\n",
       "      <td>Intensity</td>\n",
       "      <td>Intensity</td>\n",
       "      <td>Intensity</td>\n",
       "      <td>Intensity</td>\n",
       "      <td>Intensity</td>\n",
       "      <td>Intensity</td>\n",
       "      <td>Intensity</td>\n",
       "      <td>Intensity</td>\n",
       "      <td>Intensity</td>\n",
       "    </tr>\n",
       "    <tr>\n",
       "      <th>1799.37</th>\n",
       "      <td>0.00067396</td>\n",
       "      <td>0.0015262</td>\n",
       "      <td>0.0016579</td>\n",
       "      <td>0.001276</td>\n",
       "      <td>0.001157</td>\n",
       "      <td>0.00049617</td>\n",
       "      <td>0.0015453</td>\n",
       "      <td>0.0012125</td>\n",
       "      <td>0.00039121</td>\n",
       "      <td>0.00042321</td>\n",
       "    </tr>\n",
       "    <tr>\n",
       "      <th>1797.728</th>\n",
       "      <td>0.0030657</td>\n",
       "      <td>0.0014157</td>\n",
       "      <td>0.0026677</td>\n",
       "      <td>0.0024631</td>\n",
       "      <td>0.002722</td>\n",
       "      <td>0.0025741</td>\n",
       "      <td>0.0032088</td>\n",
       "      <td>0.002399</td>\n",
       "      <td>0.004259</td>\n",
       "      <td>0.0018459</td>\n",
       "    </tr>\n",
       "    <tr>\n",
       "      <th>1796.086</th>\n",
       "      <td>0.0039349</td>\n",
       "      <td>0.0021411</td>\n",
       "      <td>0.0034456</td>\n",
       "      <td>0.0030594</td>\n",
       "      <td>0.0033552</td>\n",
       "      <td>0.0041694</td>\n",
       "      <td>0.0034125</td>\n",
       "      <td>0.0024663</td>\n",
       "      <td>0.0056899</td>\n",
       "      <td>0.0022714</td>\n",
       "    </tr>\n",
       "    <tr>\n",
       "      <th>1794.443</th>\n",
       "      <td>0.0047444</td>\n",
       "      <td>0.0038387</td>\n",
       "      <td>0.0047478</td>\n",
       "      <td>0.0041124</td>\n",
       "      <td>0.0039831</td>\n",
       "      <td>0.0050702</td>\n",
       "      <td>0.0042908</td>\n",
       "      <td>0.0028068</td>\n",
       "      <td>0.0060642</td>\n",
       "      <td>0.0028622</td>\n",
       "    </tr>\n",
       "  </tbody>\n",
       "</table>\n",
       "</div>"
      ],
      "text/plain": [
       "                         SP_12      SP_13      SP_14      SP_16      SP_17  \\\n",
       "Raman shift [1/cm]   Intensity  Intensity  Intensity  Intensity  Intensity   \n",
       "1799.37             0.00067396  0.0015262  0.0016579   0.001276   0.001157   \n",
       "1797.728             0.0030657  0.0014157  0.0026677  0.0024631   0.002722   \n",
       "1796.086             0.0039349  0.0021411  0.0034456  0.0030594  0.0033552   \n",
       "1794.443             0.0047444  0.0038387  0.0047478  0.0041124  0.0039831   \n",
       "\n",
       "                         SP_18      SP_21      SP_23        SP_7        SP_9  \n",
       "Raman shift [1/cm]   Intensity  Intensity  Intensity   Intensity   Intensity  \n",
       "1799.37             0.00049617  0.0015453  0.0012125  0.00039121  0.00042321  \n",
       "1797.728             0.0025741  0.0032088   0.002399    0.004259   0.0018459  \n",
       "1796.086             0.0041694  0.0034125  0.0024663   0.0056899   0.0022714  \n",
       "1794.443             0.0050702  0.0042908  0.0028068   0.0060642   0.0028622  "
      ]
     },
     "execution_count": 2,
     "metadata": {},
     "output_type": "execute_result"
    }
   ],
   "source": [
    "# load excel\n",
    "df = pd.read_excel('Book1.xlsx')\n",
    "df.head()  # show head"
   ]
  },
  {
   "cell_type": "markdown",
   "metadata": {},
   "source": [
    "As we see, the first column of the dataframe contains the Raman shifts, while the first row contains the spectra names and the second row contains the units of the measurements. We will use the Raman shifts column as the index of the dataframe and the spectra names as its header using the `header` and `index_col` options of the **read_excel()** function. The units row will be skipped using the `skiprows` option.\n",
    "\n",
    "Note on `skiprows`:\n",
    "\n",
    "* If we use `skiprows=n`, the first n rows will be skipped.\n",
    "\n",
    "* If we use `skiprows=[n]`, the n<sup>th</sup> row will be skipped. We can also use `skiprows` with a list of rows if we want to skip multiple rows.\n"
   ]
  },
  {
   "cell_type": "code",
   "execution_count": 3,
   "metadata": {},
   "outputs": [
    {
     "data": {
      "text/html": [
       "<div>\n",
       "<style>\n",
       "    .dataframe thead tr:only-child th {\n",
       "        text-align: right;\n",
       "    }\n",
       "\n",
       "    .dataframe thead th {\n",
       "        text-align: left;\n",
       "    }\n",
       "\n",
       "    .dataframe tbody tr th {\n",
       "        vertical-align: top;\n",
       "    }\n",
       "</style>\n",
       "<table border=\"1\" class=\"dataframe\">\n",
       "  <thead>\n",
       "    <tr style=\"text-align: right;\">\n",
       "      <th></th>\n",
       "      <th>SP_12</th>\n",
       "      <th>SP_13</th>\n",
       "      <th>SP_14</th>\n",
       "      <th>SP_16</th>\n",
       "      <th>SP_17</th>\n",
       "      <th>SP_18</th>\n",
       "      <th>SP_21</th>\n",
       "      <th>SP_23</th>\n",
       "      <th>SP_7</th>\n",
       "      <th>SP_9</th>\n",
       "    </tr>\n",
       "  </thead>\n",
       "  <tbody>\n",
       "    <tr>\n",
       "      <th>1799.370</th>\n",
       "      <td>0.000674</td>\n",
       "      <td>0.001526</td>\n",
       "      <td>0.001658</td>\n",
       "      <td>0.001276</td>\n",
       "      <td>0.001157</td>\n",
       "      <td>0.000496</td>\n",
       "      <td>0.001545</td>\n",
       "      <td>0.001213</td>\n",
       "      <td>0.000391</td>\n",
       "      <td>0.000423</td>\n",
       "    </tr>\n",
       "    <tr>\n",
       "      <th>1797.728</th>\n",
       "      <td>0.003066</td>\n",
       "      <td>0.001416</td>\n",
       "      <td>0.002668</td>\n",
       "      <td>0.002463</td>\n",
       "      <td>0.002722</td>\n",
       "      <td>0.002574</td>\n",
       "      <td>0.003209</td>\n",
       "      <td>0.002399</td>\n",
       "      <td>0.004259</td>\n",
       "      <td>0.001846</td>\n",
       "    </tr>\n",
       "    <tr>\n",
       "      <th>1796.086</th>\n",
       "      <td>0.003935</td>\n",
       "      <td>0.002141</td>\n",
       "      <td>0.003446</td>\n",
       "      <td>0.003059</td>\n",
       "      <td>0.003355</td>\n",
       "      <td>0.004169</td>\n",
       "      <td>0.003413</td>\n",
       "      <td>0.002466</td>\n",
       "      <td>0.005690</td>\n",
       "      <td>0.002271</td>\n",
       "    </tr>\n",
       "    <tr>\n",
       "      <th>1794.443</th>\n",
       "      <td>0.004744</td>\n",
       "      <td>0.003839</td>\n",
       "      <td>0.004748</td>\n",
       "      <td>0.004112</td>\n",
       "      <td>0.003983</td>\n",
       "      <td>0.005070</td>\n",
       "      <td>0.004291</td>\n",
       "      <td>0.002807</td>\n",
       "      <td>0.006064</td>\n",
       "      <td>0.002862</td>\n",
       "    </tr>\n",
       "    <tr>\n",
       "      <th>1792.801</th>\n",
       "      <td>0.004761</td>\n",
       "      <td>0.005223</td>\n",
       "      <td>0.005747</td>\n",
       "      <td>0.004835</td>\n",
       "      <td>0.004992</td>\n",
       "      <td>0.005627</td>\n",
       "      <td>0.005921</td>\n",
       "      <td>0.003457</td>\n",
       "      <td>0.006138</td>\n",
       "      <td>0.002508</td>\n",
       "    </tr>\n",
       "  </tbody>\n",
       "</table>\n",
       "</div>"
      ],
      "text/plain": [
       "             SP_12     SP_13     SP_14     SP_16     SP_17     SP_18  \\\n",
       "1799.370  0.000674  0.001526  0.001658  0.001276  0.001157  0.000496   \n",
       "1797.728  0.003066  0.001416  0.002668  0.002463  0.002722  0.002574   \n",
       "1796.086  0.003935  0.002141  0.003446  0.003059  0.003355  0.004169   \n",
       "1794.443  0.004744  0.003839  0.004748  0.004112  0.003983  0.005070   \n",
       "1792.801  0.004761  0.005223  0.005747  0.004835  0.004992  0.005627   \n",
       "\n",
       "             SP_21     SP_23      SP_7      SP_9  \n",
       "1799.370  0.001545  0.001213  0.000391  0.000423  \n",
       "1797.728  0.003209  0.002399  0.004259  0.001846  \n",
       "1796.086  0.003413  0.002466  0.005690  0.002271  \n",
       "1794.443  0.004291  0.002807  0.006064  0.002862  \n",
       "1792.801  0.005921  0.003457  0.006138  0.002508  "
      ]
     },
     "execution_count": 3,
     "metadata": {},
     "output_type": "execute_result"
    }
   ],
   "source": [
    "# load excel (first row as header, first column as index, skip second row)\n",
    "df = pd.read_excel('Book1.xlsx', header=0, index_col=0, skiprows=[1])\n",
    "df.head()  # show head"
   ]
  },
  {
   "cell_type": "code",
   "execution_count": 4,
   "metadata": {},
   "outputs": [
    {
     "data": {
      "text/plain": [
       "(853, 10)"
      ]
     },
     "execution_count": 4,
     "metadata": {},
     "output_type": "execute_result"
    }
   ],
   "source": [
    "# dimensions of the dataframe\n",
    "df.shape"
   ]
  },
  {
   "cell_type": "markdown",
   "metadata": {},
   "source": [
    "Some descriptive statistics on the dataframe can be provided by the **describe()** attribute of the dataframe."
   ]
  },
  {
   "cell_type": "code",
   "execution_count": 5,
   "metadata": {},
   "outputs": [
    {
     "data": {
      "text/html": [
       "<div>\n",
       "<style>\n",
       "    .dataframe thead tr:only-child th {\n",
       "        text-align: right;\n",
       "    }\n",
       "\n",
       "    .dataframe thead th {\n",
       "        text-align: left;\n",
       "    }\n",
       "\n",
       "    .dataframe tbody tr th {\n",
       "        vertical-align: top;\n",
       "    }\n",
       "</style>\n",
       "<table border=\"1\" class=\"dataframe\">\n",
       "  <thead>\n",
       "    <tr style=\"text-align: right;\">\n",
       "      <th></th>\n",
       "      <th>SP_12</th>\n",
       "      <th>SP_13</th>\n",
       "      <th>SP_14</th>\n",
       "      <th>SP_16</th>\n",
       "      <th>SP_17</th>\n",
       "      <th>SP_18</th>\n",
       "      <th>SP_21</th>\n",
       "      <th>SP_23</th>\n",
       "      <th>SP_7</th>\n",
       "      <th>SP_9</th>\n",
       "    </tr>\n",
       "  </thead>\n",
       "  <tbody>\n",
       "    <tr>\n",
       "      <th>count</th>\n",
       "      <td>853.000000</td>\n",
       "      <td>853.000000</td>\n",
       "      <td>853.000000</td>\n",
       "      <td>853.000000</td>\n",
       "      <td>853.000000</td>\n",
       "      <td>853.000000</td>\n",
       "      <td>853.000000</td>\n",
       "      <td>853.000000</td>\n",
       "      <td>853.000000</td>\n",
       "      <td>853.000000</td>\n",
       "    </tr>\n",
       "    <tr>\n",
       "      <th>mean</th>\n",
       "      <td>0.037517</td>\n",
       "      <td>0.038175</td>\n",
       "      <td>0.038545</td>\n",
       "      <td>0.033312</td>\n",
       "      <td>0.033158</td>\n",
       "      <td>0.033783</td>\n",
       "      <td>0.033728</td>\n",
       "      <td>0.030341</td>\n",
       "      <td>0.032365</td>\n",
       "      <td>0.031878</td>\n",
       "    </tr>\n",
       "    <tr>\n",
       "      <th>std</th>\n",
       "      <td>0.063975</td>\n",
       "      <td>0.066134</td>\n",
       "      <td>0.067900</td>\n",
       "      <td>0.052349</td>\n",
       "      <td>0.052429</td>\n",
       "      <td>0.050337</td>\n",
       "      <td>0.043165</td>\n",
       "      <td>0.029881</td>\n",
       "      <td>0.044393</td>\n",
       "      <td>0.042795</td>\n",
       "    </tr>\n",
       "    <tr>\n",
       "      <th>min</th>\n",
       "      <td>0.000674</td>\n",
       "      <td>0.001416</td>\n",
       "      <td>0.001342</td>\n",
       "      <td>0.001034</td>\n",
       "      <td>0.000819</td>\n",
       "      <td>0.000496</td>\n",
       "      <td>0.001545</td>\n",
       "      <td>0.001213</td>\n",
       "      <td>0.000391</td>\n",
       "      <td>0.000423</td>\n",
       "    </tr>\n",
       "    <tr>\n",
       "      <th>25%</th>\n",
       "      <td>0.018425</td>\n",
       "      <td>0.018645</td>\n",
       "      <td>0.018096</td>\n",
       "      <td>0.016528</td>\n",
       "      <td>0.016764</td>\n",
       "      <td>0.018301</td>\n",
       "      <td>0.018480</td>\n",
       "      <td>0.019424</td>\n",
       "      <td>0.017967</td>\n",
       "      <td>0.016699</td>\n",
       "    </tr>\n",
       "    <tr>\n",
       "      <th>50%</th>\n",
       "      <td>0.024354</td>\n",
       "      <td>0.023988</td>\n",
       "      <td>0.024443</td>\n",
       "      <td>0.023883</td>\n",
       "      <td>0.023483</td>\n",
       "      <td>0.024078</td>\n",
       "      <td>0.024233</td>\n",
       "      <td>0.025515</td>\n",
       "      <td>0.023650</td>\n",
       "      <td>0.023373</td>\n",
       "    </tr>\n",
       "    <tr>\n",
       "      <th>75%</th>\n",
       "      <td>0.033201</td>\n",
       "      <td>0.033218</td>\n",
       "      <td>0.034195</td>\n",
       "      <td>0.032103</td>\n",
       "      <td>0.031534</td>\n",
       "      <td>0.032645</td>\n",
       "      <td>0.033102</td>\n",
       "      <td>0.032924</td>\n",
       "      <td>0.032219</td>\n",
       "      <td>0.031860</td>\n",
       "    </tr>\n",
       "    <tr>\n",
       "      <th>max</th>\n",
       "      <td>0.668520</td>\n",
       "      <td>0.689070</td>\n",
       "      <td>0.706130</td>\n",
       "      <td>0.539370</td>\n",
       "      <td>0.548270</td>\n",
       "      <td>0.516860</td>\n",
       "      <td>0.361580</td>\n",
       "      <td>0.313830</td>\n",
       "      <td>0.460930</td>\n",
       "      <td>0.396840</td>\n",
       "    </tr>\n",
       "  </tbody>\n",
       "</table>\n",
       "</div>"
      ],
      "text/plain": [
       "            SP_12       SP_13       SP_14       SP_16       SP_17       SP_18  \\\n",
       "count  853.000000  853.000000  853.000000  853.000000  853.000000  853.000000   \n",
       "mean     0.037517    0.038175    0.038545    0.033312    0.033158    0.033783   \n",
       "std      0.063975    0.066134    0.067900    0.052349    0.052429    0.050337   \n",
       "min      0.000674    0.001416    0.001342    0.001034    0.000819    0.000496   \n",
       "25%      0.018425    0.018645    0.018096    0.016528    0.016764    0.018301   \n",
       "50%      0.024354    0.023988    0.024443    0.023883    0.023483    0.024078   \n",
       "75%      0.033201    0.033218    0.034195    0.032103    0.031534    0.032645   \n",
       "max      0.668520    0.689070    0.706130    0.539370    0.548270    0.516860   \n",
       "\n",
       "            SP_21       SP_23        SP_7        SP_9  \n",
       "count  853.000000  853.000000  853.000000  853.000000  \n",
       "mean     0.033728    0.030341    0.032365    0.031878  \n",
       "std      0.043165    0.029881    0.044393    0.042795  \n",
       "min      0.001545    0.001213    0.000391    0.000423  \n",
       "25%      0.018480    0.019424    0.017967    0.016699  \n",
       "50%      0.024233    0.025515    0.023650    0.023373  \n",
       "75%      0.033102    0.032924    0.032219    0.031860  \n",
       "max      0.361580    0.313830    0.460930    0.396840  "
      ]
     },
     "execution_count": 5,
     "metadata": {},
     "output_type": "execute_result"
    }
   ],
   "source": [
    "df.describe()  # describe dataframe"
   ]
  },
  {
   "cell_type": "markdown",
   "metadata": {},
   "source": [
    "It is obvious that all spectra are similar in terms of mean values and standard deviations."
   ]
  },
  {
   "cell_type": "markdown",
   "metadata": {},
   "source": [
    "## Visualization\n",
    "\n",
    "Let's plot the dataframe using the dataframe's plot attribute, which is based on matplotlib, to get a visualization of the spectra."
   ]
  },
  {
   "cell_type": "code",
   "execution_count": 6,
   "metadata": {
    "collapsed": true
   },
   "outputs": [],
   "source": [
    "import matplotlib.pyplot as plt\n",
    "plt.style.use('ggplot')  # plot style to use"
   ]
  },
  {
   "cell_type": "code",
   "execution_count": 7,
   "metadata": {
    "scrolled": false
   },
   "outputs": [
    {
     "data": {
      "image/png": "[encoded data removed]",
      "text/plain": [
       "<Figure size 936x432 with 1 Axes>"
      ]
     },
     "metadata": {},
     "output_type": "display_data"
    }
   ],
   "source": [
    "# create figure and set its size\n",
    "fig, ax = plt.subplots(figsize=(13, 6))\n",
    "\n",
    "plt.title('Raman spectra')  # plot title\n",
    "\n",
    "df.plot(kind='line', alpha=0.75, ax=ax)  # plot dataframe\n",
    "\n",
    "ax.set_xlabel('Raman shift (cm $\\mathrm{^{-1}}$)')  # x-axis label\n",
    "ax.set_ylabel('Intensity (a.u.)')  # y-axis label\n",
    "\n",
    "ax.invert_xaxis()  # invert x-axis (dataframe is sorted high to low)\n",
    "\n",
    "plt.legend(facecolor='white', framealpha=0.75)  # plot legend\n",
    "plt.tight_layout()  # set tight layout\n",
    "plt.show()  # show plot"
   ]
  },
  {
   "cell_type": "markdown",
   "metadata": {},
   "source": [
    "We can see that the main differences of the spectra lie in the two peaks of the 400-650 cm<sup>-1</sup> region, in the region of the central maximum and in the 1000-1100 cm<sup>-1</sup> region."
   ]
  },
  {
   "cell_type": "markdown",
   "metadata": {
    "collapsed": true
   },
   "source": [
    "## Standardization (scaling)\n",
    "\n",
    "Before applying a PCA, it is usually advised that the data should be standardized, such that they have a mean value equal to zero and a standard deviation equal to one. That is perfectly true for data of different variables, for example length, width, weight of an object. For Raman spectra, however, there is a [debate](https://www.researchgate.net/post/What_is_the_best_way_to_scale_parameters_before_running_a_Principal_Component_Analysis_PCA) over whether the spectra should be standardized or not. It is generally suggested that Raman spectra should not be standardized, since for PCA we want to have the maximum variation of the data, so that the spectra varying the most contribute more than the rest. Additionally, standardization tends to over-weight the noise and down-weight the useful signal of the spectra.\n",
    "\n",
    "If we wanted to standardize the spectra we could easily do that using the **sklearn.preprocessing.StandardScaler()** to create a scaler object. Then we could use this object to scale the dataframe or array we wished. The resulting transformed object would be a NumPy array."
   ]
  },
  {
   "cell_type": "markdown",
   "metadata": {
    "collapsed": true
   },
   "source": [
    "## PCA\n",
    "\n",
    "The PCA will be performed using the **sklearn.decomposition.PCA()** function. This function takes an $m \\times n$ array or dataframe and calculates its $n$ principal components. Therefore, since we need the principal components of the spectra, we have to use the transposed $10 \\times 853$ dataframe."
   ]
  },
  {
   "cell_type": "code",
   "execution_count": 8,
   "metadata": {},
   "outputs": [
    {
     "data": {
      "text/html": [
       "<div>\n",
       "<style>\n",
       "    .dataframe thead tr:only-child th {\n",
       "        text-align: right;\n",
       "    }\n",
       "\n",
       "    .dataframe thead th {\n",
       "        text-align: left;\n",
       "    }\n",
       "\n",
       "    .dataframe tbody tr th {\n",
       "        vertical-align: top;\n",
       "    }\n",
       "</style>\n",
       "<table border=\"1\" class=\"dataframe\">\n",
       "  <thead>\n",
       "    <tr style=\"text-align: right;\">\n",
       "      <th></th>\n",
       "      <th>1799.37</th>\n",
       "      <th>1797.728</th>\n",
       "      <th>1796.086</th>\n",
       "      <th>1794.443</th>\n",
       "      <th>1792.801</th>\n",
       "      <th>1791.159</th>\n",
       "      <th>1789.516</th>\n",
       "      <th>1787.874</th>\n",
       "      <th>1786.232</th>\n",
       "      <th>1784.589</th>\n",
       "      <th>...</th>\n",
       "      <th>414.886</th>\n",
       "      <th>413.244</th>\n",
       "      <th>411.602</th>\n",
       "      <th>409.959</th>\n",
       "      <th>408.317</th>\n",
       "      <th>406.675</th>\n",
       "      <th>405.032</th>\n",
       "      <th>403.39</th>\n",
       "      <th>401.748</th>\n",
       "      <th>400.105</th>\n",
       "    </tr>\n",
       "  </thead>\n",
       "  <tbody>\n",
       "    <tr>\n",
       "      <th>SP_12</th>\n",
       "      <td>0.000674</td>\n",
       "      <td>0.003066</td>\n",
       "      <td>0.003935</td>\n",
       "      <td>0.004744</td>\n",
       "      <td>0.004761</td>\n",
       "      <td>0.005452</td>\n",
       "      <td>0.006318</td>\n",
       "      <td>0.007308</td>\n",
       "      <td>0.008320</td>\n",
       "      <td>0.009925</td>\n",
       "      <td>...</td>\n",
       "      <td>0.052284</td>\n",
       "      <td>0.043989</td>\n",
       "      <td>0.035827</td>\n",
       "      <td>0.029009</td>\n",
       "      <td>0.022451</td>\n",
       "      <td>0.015934</td>\n",
       "      <td>0.011547</td>\n",
       "      <td>0.007642</td>\n",
       "      <td>0.003917</td>\n",
       "      <td>0.004327</td>\n",
       "    </tr>\n",
       "    <tr>\n",
       "      <th>SP_13</th>\n",
       "      <td>0.001526</td>\n",
       "      <td>0.001416</td>\n",
       "      <td>0.002141</td>\n",
       "      <td>0.003839</td>\n",
       "      <td>0.005223</td>\n",
       "      <td>0.006177</td>\n",
       "      <td>0.006625</td>\n",
       "      <td>0.007133</td>\n",
       "      <td>0.007201</td>\n",
       "      <td>0.007742</td>\n",
       "      <td>...</td>\n",
       "      <td>0.054911</td>\n",
       "      <td>0.044543</td>\n",
       "      <td>0.035081</td>\n",
       "      <td>0.026820</td>\n",
       "      <td>0.019893</td>\n",
       "      <td>0.013916</td>\n",
       "      <td>0.009785</td>\n",
       "      <td>0.006234</td>\n",
       "      <td>0.003128</td>\n",
       "      <td>0.002298</td>\n",
       "    </tr>\n",
       "    <tr>\n",
       "      <th>SP_14</th>\n",
       "      <td>0.001658</td>\n",
       "      <td>0.002668</td>\n",
       "      <td>0.003446</td>\n",
       "      <td>0.004748</td>\n",
       "      <td>0.005747</td>\n",
       "      <td>0.006943</td>\n",
       "      <td>0.007414</td>\n",
       "      <td>0.007824</td>\n",
       "      <td>0.007832</td>\n",
       "      <td>0.008778</td>\n",
       "      <td>...</td>\n",
       "      <td>0.056889</td>\n",
       "      <td>0.046271</td>\n",
       "      <td>0.036287</td>\n",
       "      <td>0.027356</td>\n",
       "      <td>0.020217</td>\n",
       "      <td>0.015170</td>\n",
       "      <td>0.010537</td>\n",
       "      <td>0.007557</td>\n",
       "      <td>0.004842</td>\n",
       "      <td>0.001342</td>\n",
       "    </tr>\n",
       "    <tr>\n",
       "      <th>SP_16</th>\n",
       "      <td>0.001276</td>\n",
       "      <td>0.002463</td>\n",
       "      <td>0.003059</td>\n",
       "      <td>0.004112</td>\n",
       "      <td>0.004835</td>\n",
       "      <td>0.005410</td>\n",
       "      <td>0.006889</td>\n",
       "      <td>0.008223</td>\n",
       "      <td>0.008755</td>\n",
       "      <td>0.009389</td>\n",
       "      <td>...</td>\n",
       "      <td>0.048089</td>\n",
       "      <td>0.040639</td>\n",
       "      <td>0.033243</td>\n",
       "      <td>0.026731</td>\n",
       "      <td>0.021114</td>\n",
       "      <td>0.016392</td>\n",
       "      <td>0.012324</td>\n",
       "      <td>0.008385</td>\n",
       "      <td>0.004514</td>\n",
       "      <td>0.001034</td>\n",
       "    </tr>\n",
       "    <tr>\n",
       "      <th>SP_17</th>\n",
       "      <td>0.001157</td>\n",
       "      <td>0.002722</td>\n",
       "      <td>0.003355</td>\n",
       "      <td>0.003983</td>\n",
       "      <td>0.004992</td>\n",
       "      <td>0.006017</td>\n",
       "      <td>0.006943</td>\n",
       "      <td>0.007829</td>\n",
       "      <td>0.008758</td>\n",
       "      <td>0.009759</td>\n",
       "      <td>...</td>\n",
       "      <td>0.046748</td>\n",
       "      <td>0.039388</td>\n",
       "      <td>0.031534</td>\n",
       "      <td>0.024314</td>\n",
       "      <td>0.018527</td>\n",
       "      <td>0.013974</td>\n",
       "      <td>0.009986</td>\n",
       "      <td>0.006978</td>\n",
       "      <td>0.004597</td>\n",
       "      <td>0.000819</td>\n",
       "    </tr>\n",
       "    <tr>\n",
       "      <th>SP_18</th>\n",
       "      <td>0.000496</td>\n",
       "      <td>0.002574</td>\n",
       "      <td>0.004169</td>\n",
       "      <td>0.005070</td>\n",
       "      <td>0.005627</td>\n",
       "      <td>0.006362</td>\n",
       "      <td>0.006677</td>\n",
       "      <td>0.007056</td>\n",
       "      <td>0.008482</td>\n",
       "      <td>0.010554</td>\n",
       "      <td>...</td>\n",
       "      <td>0.047931</td>\n",
       "      <td>0.040676</td>\n",
       "      <td>0.033426</td>\n",
       "      <td>0.027035</td>\n",
       "      <td>0.021103</td>\n",
       "      <td>0.015777</td>\n",
       "      <td>0.011419</td>\n",
       "      <td>0.007668</td>\n",
       "      <td>0.004198</td>\n",
       "      <td>0.001079</td>\n",
       "    </tr>\n",
       "    <tr>\n",
       "      <th>SP_21</th>\n",
       "      <td>0.001545</td>\n",
       "      <td>0.003209</td>\n",
       "      <td>0.003413</td>\n",
       "      <td>0.004291</td>\n",
       "      <td>0.005921</td>\n",
       "      <td>0.006039</td>\n",
       "      <td>0.007277</td>\n",
       "      <td>0.008679</td>\n",
       "      <td>0.009658</td>\n",
       "      <td>0.010504</td>\n",
       "      <td>...</td>\n",
       "      <td>0.048767</td>\n",
       "      <td>0.041209</td>\n",
       "      <td>0.034027</td>\n",
       "      <td>0.027154</td>\n",
       "      <td>0.020552</td>\n",
       "      <td>0.015164</td>\n",
       "      <td>0.010109</td>\n",
       "      <td>0.006349</td>\n",
       "      <td>0.003827</td>\n",
       "      <td>0.001589</td>\n",
       "    </tr>\n",
       "    <tr>\n",
       "      <th>SP_23</th>\n",
       "      <td>0.001213</td>\n",
       "      <td>0.002399</td>\n",
       "      <td>0.002466</td>\n",
       "      <td>0.002807</td>\n",
       "      <td>0.003457</td>\n",
       "      <td>0.003936</td>\n",
       "      <td>0.005045</td>\n",
       "      <td>0.006826</td>\n",
       "      <td>0.008064</td>\n",
       "      <td>0.009253</td>\n",
       "      <td>...</td>\n",
       "      <td>0.032845</td>\n",
       "      <td>0.028611</td>\n",
       "      <td>0.024501</td>\n",
       "      <td>0.019716</td>\n",
       "      <td>0.015012</td>\n",
       "      <td>0.011540</td>\n",
       "      <td>0.008603</td>\n",
       "      <td>0.006249</td>\n",
       "      <td>0.004053</td>\n",
       "      <td>0.001340</td>\n",
       "    </tr>\n",
       "    <tr>\n",
       "      <th>SP_7</th>\n",
       "      <td>0.000391</td>\n",
       "      <td>0.004259</td>\n",
       "      <td>0.005690</td>\n",
       "      <td>0.006064</td>\n",
       "      <td>0.006138</td>\n",
       "      <td>0.006114</td>\n",
       "      <td>0.005747</td>\n",
       "      <td>0.006405</td>\n",
       "      <td>0.008580</td>\n",
       "      <td>0.010518</td>\n",
       "      <td>...</td>\n",
       "      <td>0.043699</td>\n",
       "      <td>0.036478</td>\n",
       "      <td>0.030036</td>\n",
       "      <td>0.024703</td>\n",
       "      <td>0.020357</td>\n",
       "      <td>0.016869</td>\n",
       "      <td>0.013518</td>\n",
       "      <td>0.010745</td>\n",
       "      <td>0.006782</td>\n",
       "      <td>0.000904</td>\n",
       "    </tr>\n",
       "    <tr>\n",
       "      <th>SP_9</th>\n",
       "      <td>0.000423</td>\n",
       "      <td>0.001846</td>\n",
       "      <td>0.002271</td>\n",
       "      <td>0.002862</td>\n",
       "      <td>0.002508</td>\n",
       "      <td>0.002372</td>\n",
       "      <td>0.002682</td>\n",
       "      <td>0.003606</td>\n",
       "      <td>0.004655</td>\n",
       "      <td>0.006461</td>\n",
       "      <td>...</td>\n",
       "      <td>0.044214</td>\n",
       "      <td>0.037725</td>\n",
       "      <td>0.030455</td>\n",
       "      <td>0.023510</td>\n",
       "      <td>0.017728</td>\n",
       "      <td>0.013774</td>\n",
       "      <td>0.009550</td>\n",
       "      <td>0.007041</td>\n",
       "      <td>0.005135</td>\n",
       "      <td>0.001350</td>\n",
       "    </tr>\n",
       "  </tbody>\n",
       "</table>\n",
       "<p>10 rows × 853 columns</p>\n",
       "</div>"
      ],
      "text/plain": [
       "       1799.370  1797.728  1796.086  1794.443  1792.801  1791.159  1789.516  \\\n",
       "SP_12  0.000674  0.003066  0.003935  0.004744  0.004761  0.005452  0.006318   \n",
       "SP_13  0.001526  0.001416  0.002141  0.003839  0.005223  0.006177  0.006625   \n",
       "SP_14  0.001658  0.002668  0.003446  0.004748  0.005747  0.006943  0.007414   \n",
       "SP_16  0.001276  0.002463  0.003059  0.004112  0.004835  0.005410  0.006889   \n",
       "SP_17  0.001157  0.002722  0.003355  0.003983  0.004992  0.006017  0.006943   \n",
       "SP_18  0.000496  0.002574  0.004169  0.005070  0.005627  0.006362  0.006677   \n",
       "SP_21  0.001545  0.003209  0.003413  0.004291  0.005921  0.006039  0.007277   \n",
       "SP_23  0.001213  0.002399  0.002466  0.002807  0.003457  0.003936  0.005045   \n",
       "SP_7   0.000391  0.004259  0.005690  0.006064  0.006138  0.006114  0.005747   \n",
       "SP_9   0.000423  0.001846  0.002271  0.002862  0.002508  0.002372  0.002682   \n",
       "\n",
       "       1787.874  1786.232  1784.589    ...     414.886   413.244   411.602   \\\n",
       "SP_12  0.007308  0.008320  0.009925    ...     0.052284  0.043989  0.035827   \n",
       "SP_13  0.007133  0.007201  0.007742    ...     0.054911  0.044543  0.035081   \n",
       "SP_14  0.007824  0.007832  0.008778    ...     0.056889  0.046271  0.036287   \n",
       "SP_16  0.008223  0.008755  0.009389    ...     0.048089  0.040639  0.033243   \n",
       "SP_17  0.007829  0.008758  0.009759    ...     0.046748  0.039388  0.031534   \n",
       "SP_18  0.007056  0.008482  0.010554    ...     0.047931  0.040676  0.033426   \n",
       "SP_21  0.008679  0.009658  0.010504    ...     0.048767  0.041209  0.034027   \n",
       "SP_23  0.006826  0.008064  0.009253    ...     0.032845  0.028611  0.024501   \n",
       "SP_7   0.006405  0.008580  0.010518    ...     0.043699  0.036478  0.030036   \n",
       "SP_9   0.003606  0.004655  0.006461    ...     0.044214  0.037725  0.030455   \n",
       "\n",
       "       409.959   408.317   406.675   405.032   403.390   401.748   400.105   \n",
       "SP_12  0.029009  0.022451  0.015934  0.011547  0.007642  0.003917  0.004327  \n",
       "SP_13  0.026820  0.019893  0.013916  0.009785  0.006234  0.003128  0.002298  \n",
       "SP_14  0.027356  0.020217  0.015170  0.010537  0.007557  0.004842  0.001342  \n",
       "SP_16  0.026731  0.021114  0.016392  0.012324  0.008385  0.004514  0.001034  \n",
       "SP_17  0.024314  0.018527  0.013974  0.009986  0.006978  0.004597  0.000819  \n",
       "SP_18  0.027035  0.021103  0.015777  0.011419  0.007668  0.004198  0.001079  \n",
       "SP_21  0.027154  0.020552  0.015164  0.010109  0.006349  0.003827  0.001589  \n",
       "SP_23  0.019716  0.015012  0.011540  0.008603  0.006249  0.004053  0.001340  \n",
       "SP_7   0.024703  0.020357  0.016869  0.013518  0.010745  0.006782  0.000904  \n",
       "SP_9   0.023510  0.017728  0.013774  0.009550  0.007041  0.005135  0.001350  \n",
       "\n",
       "[10 rows x 853 columns]"
      ]
     },
     "execution_count": 8,
     "metadata": {},
     "output_type": "execute_result"
    }
   ],
   "source": [
    "df_T = df.T  # transpose dataframe\n",
    "df_T  # show dataframe"
   ]
  },
  {
   "cell_type": "code",
   "execution_count": 9,
   "metadata": {
    "collapsed": true
   },
   "outputs": [],
   "source": [
    "from sklearn.decomposition import PCA"
   ]
  },
  {
   "cell_type": "code",
   "execution_count": 10,
   "metadata": {
    "collapsed": true
   },
   "outputs": [],
   "source": [
    "# create a pca object\n",
    "# if n_components is not set, all components are kept\n",
    "pca = PCA()\n",
    "# fit the pca object with the dataframe and transform the dataframe\n",
    "trans_data = pca.fit_transform(df_T)"
   ]
  },
  {
   "cell_type": "markdown",
   "metadata": {},
   "source": [
    "Now that we implemented the PCA, let's have a look at the explained variance ratio and the cumulative explained variance ratio of the Principal Components (PCs). The explained variance ratio tells us how much each PC contributes to the variance of the spectra, while the cumulative explained variance ratio is the successive sum of the PCs' explained variance ratio."
   ]
  },
  {
   "cell_type": "code",
   "execution_count": 11,
   "metadata": {},
   "outputs": [
    {
     "name": "stdout",
     "output_type": "stream",
     "text": [
      "Explained variance:\n",
      " [9.38910897e-01 3.85750663e-02 1.36524525e-02 2.18571768e-03\n",
      " 1.80015889e-03 1.40525637e-03 1.29275407e-03 1.20860277e-03\n",
      " 9.69094017e-04 2.96826157e-31]\n",
      "\n",
      "Cumulative explained variance:\n",
      " [0.9389109  0.97748596 0.99113842 0.99332413 0.99512429 0.99652955\n",
      " 0.9978223  0.99903091 1.         1.        ]\n"
     ]
    }
   ],
   "source": [
    "# explained variance ratio\n",
    "exp_var_rat = pca.explained_variance_ratio_\n",
    "# cumulative explained variance ratio\n",
    "cum_exp_var_rat = np.cumsum(exp_var_rat)\n",
    "\n",
    "# print values\n",
    "print('Explained variance:\\n', exp_var_rat)\n",
    "print('\\nCumulative explained variance:\\n', cum_exp_var_rat)"
   ]
  },
  {
   "cell_type": "markdown",
   "metadata": {},
   "source": [
    "It is obvious, from the cumulative explained variance ratio, that the first two PCs explain almost all variance of the spectra (97.7%). But is this number the correct number of components to keep?"
   ]
  },
  {
   "cell_type": "markdown",
   "metadata": {},
   "source": [
    "### Scree plot\n",
    "\n",
    "The recommended way to answer the above question is to create a *scree plot*. A scree plot is a plot in which the $x$-axis represents the nummber of principal components, while the $y$-axis represents the explained variance ratio of each component and. The contents of the plot are the explained variance ratio and the cumulative explained variance ratio. After creating the plot, we look for the \"elbow\" of the explained variance ratio plot, from which point onwards the plot reaches a plateau. The \"elbow\" point usually tells us how many principal components we have to keep to have a reliable dimensionality reduction, although depending on the quality of the data, the \"elbow\" might not be so clear or, sometimes, there is a double \"elbow\". So we have to be careful to choose the right number of PCs."
   ]
  },
  {
   "cell_type": "code",
   "execution_count": 12,
   "metadata": {},
   "outputs": [
    {
     "data": {
      "image/png": "[encoded data removed]",
      "text/plain": [
       "<Figure size 936x432 with 1 Axes>"
      ]
     },
     "metadata": {},
     "output_type": "display_data"
    }
   ],
   "source": [
    "fig, ax = plt.subplots(figsize=(13, 6))  # create figure and set its size\n",
    "\n",
    "x = [i for i in range(len(exp_var_rat))]  # x-axis values\n",
    "\n",
    "# # create scree plot with bars\n",
    "# # bar plot\n",
    "# bar = ax.bar(x, exp_var_rat * 100,  # x-y values\n",
    "#        color='teal',  # color\n",
    "# #        width=0.75,  # bar width\n",
    "#        label='explained variance')  # plot label\n",
    "# line plot\n",
    "# line plot\n",
    "line1 = ax.plot(x, exp_var_rat * 100,  # x-y axes\n",
    "                marker='o',  # marker style\n",
    "                color='teal',  # color\n",
    "                label='explained variance')  # plot label\n",
    "\n",
    "line2 = ax.plot(x, cum_exp_var_rat * 100,  # x-y axes\n",
    "                marker='s',  # marker style\n",
    "                color='orangered',  # color\n",
    "                label='cumulative explained variance')  # plot label\n",
    "\n",
    "# # text over bars\n",
    "# for rect in bar:\n",
    "#     height = rect.get_height()  # bar height\n",
    "#     width = rect.get_width()  # bar width\n",
    "#     pos = rect.get_x()  # bar position\n",
    "#     ax.text(pos + width / 2, height + 1,  # x-y coordinates\n",
    "#             '{:.2f}%'.format(height),  # text and formatting\n",
    "#             ha='center',  # horizontal alignment\n",
    "#             va='bottom',  # vertical alignment\n",
    "#             fontsize=12)  # font size\n",
    "\n",
    "# text over points\n",
    "yticks = ax.get_yticks()  # get y-axis ticks positions\n",
    "offset = (yticks[-1] - yticks[-2]) * 0.1  # calculate y-axis offset\n",
    "\n",
    "# text over line1 points\n",
    "for i in range(0, len(exp_var_rat)):\n",
    "    t1 = ax.text(x[i], exp_var_rat[i] * 100 + offset,  # x-y coordinates\n",
    "                 '{:.2f}%'.format(exp_var_rat[i] * 100),  # text\n",
    "                 ha='center',  # horizontal alignment\n",
    "                 va='bottom',  # vertical alignment\n",
    "                 fontsize=12)  # font size\n",
    "# t1 background\n",
    "#     t1.set_bbox(dict(alpha=0.35, facecolor='white'))\n",
    "\n",
    "# text over line2 points\n",
    "for i in range(1, len(cum_exp_var_rat)):\n",
    "    t2 = ax.text(x[i], cum_exp_var_rat[i] * 100 + offset,  # x-y coordinates\n",
    "                 '{:.2f}%'.format(cum_exp_var_rat[i] * 100),  # text\n",
    "                 ha='center',  # horizontal alignment\n",
    "                 va='bottom',  # vertical alignment\n",
    "                 fontsize=12)  # font size\n",
    "# t2 background\n",
    "#     t2.set_bbox(dict(alpha=0.35, facecolor='white'))\n",
    "\n",
    "plt.title('Scree plot')\n",
    "ax.set_xlabel('Principal components')\n",
    "ax.set_ylabel('Explained variance')  # y-axis label\n",
    "ax.set_xticks(x)  # x-axis ticks in defined positions\n",
    "# manual x-axis labels in the above-defined positions\n",
    "ax.set_xticklabels(['PC{:d}'.format(i + 1) for i in range(len(exp_var_rat))])\n",
    "ax.set_ylim(-2.5, 110)  # y-axis limits\n",
    "\n",
    "plt.legend(facecolor='white', bbox_to_anchor=(1.0, 0.85))  # plot legend\n",
    "plt.tight_layout()  # use tight layout\n",
    "plt.show()  # show plot"
   ]
  },
  {
   "cell_type": "markdown",
   "metadata": {},
   "source": [
    "There is a clear \"elbow\" on PC2, meaning that the right number of components to keep is 2. In this case it is easy to choose the number of components. In other cases it might be harder."
   ]
  },
  {
   "cell_type": "code",
   "execution_count": 13,
   "metadata": {},
   "outputs": [
    {
     "data": {
      "text/plain": [
       "array([[-0.39667532, -0.00798239],\n",
       "       [-0.46061538,  0.01045806],\n",
       "       [-0.51257017,  0.00559167],\n",
       "       [-0.02295756, -0.04127692],\n",
       "       [-0.02862975, -0.06051143],\n",
       "       [ 0.02718924, -0.01643228],\n",
       "       [ 0.27081487,  0.18278255],\n",
       "       [ 0.64420818, -0.0817276 ],\n",
       "       [ 0.20696071, -0.04525339],\n",
       "       [ 0.27227518,  0.05435171]])"
      ]
     },
     "execution_count": 13,
     "metadata": {},
     "output_type": "execute_result"
    }
   ],
   "source": [
    "pca2 = PCA(n_components=2)  # create a pca object with 2 components\n",
    "# fit the pca2 object with the dataframe and transform the dataframe\n",
    "trans_data2 = pca2.fit_transform(df_T)\n",
    "trans_data2  # show transformed data components"
   ]
  },
  {
   "cell_type": "markdown",
   "metadata": {},
   "source": [
    "Let's put the PCA transformed data for 2 PCs in a dataframe, just for better display of the components."
   ]
  },
  {
   "cell_type": "code",
   "execution_count": 14,
   "metadata": {},
   "outputs": [
    {
     "data": {
      "text/html": [
       "<div>\n",
       "<style>\n",
       "    .dataframe thead tr:only-child th {\n",
       "        text-align: right;\n",
       "    }\n",
       "\n",
       "    .dataframe thead th {\n",
       "        text-align: left;\n",
       "    }\n",
       "\n",
       "    .dataframe tbody tr th {\n",
       "        vertical-align: top;\n",
       "    }\n",
       "</style>\n",
       "<table border=\"1\" class=\"dataframe\">\n",
       "  <thead>\n",
       "    <tr style=\"text-align: right;\">\n",
       "      <th></th>\n",
       "      <th>PC1</th>\n",
       "      <th>PC2</th>\n",
       "    </tr>\n",
       "  </thead>\n",
       "  <tbody>\n",
       "    <tr>\n",
       "      <th>SP_12</th>\n",
       "      <td>-0.396675</td>\n",
       "      <td>-0.007982</td>\n",
       "    </tr>\n",
       "    <tr>\n",
       "      <th>SP_13</th>\n",
       "      <td>-0.460615</td>\n",
       "      <td>0.010458</td>\n",
       "    </tr>\n",
       "    <tr>\n",
       "      <th>SP_14</th>\n",
       "      <td>-0.512570</td>\n",
       "      <td>0.005592</td>\n",
       "    </tr>\n",
       "    <tr>\n",
       "      <th>SP_16</th>\n",
       "      <td>-0.022958</td>\n",
       "      <td>-0.041277</td>\n",
       "    </tr>\n",
       "    <tr>\n",
       "      <th>SP_17</th>\n",
       "      <td>-0.028630</td>\n",
       "      <td>-0.060511</td>\n",
       "    </tr>\n",
       "    <tr>\n",
       "      <th>SP_18</th>\n",
       "      <td>0.027189</td>\n",
       "      <td>-0.016432</td>\n",
       "    </tr>\n",
       "    <tr>\n",
       "      <th>SP_21</th>\n",
       "      <td>0.270815</td>\n",
       "      <td>0.182783</td>\n",
       "    </tr>\n",
       "    <tr>\n",
       "      <th>SP_23</th>\n",
       "      <td>0.644208</td>\n",
       "      <td>-0.081728</td>\n",
       "    </tr>\n",
       "    <tr>\n",
       "      <th>SP_7</th>\n",
       "      <td>0.206961</td>\n",
       "      <td>-0.045253</td>\n",
       "    </tr>\n",
       "    <tr>\n",
       "      <th>SP_9</th>\n",
       "      <td>0.272275</td>\n",
       "      <td>0.054352</td>\n",
       "    </tr>\n",
       "  </tbody>\n",
       "</table>\n",
       "</div>"
      ],
      "text/plain": [
       "            PC1       PC2\n",
       "SP_12 -0.396675 -0.007982\n",
       "SP_13 -0.460615  0.010458\n",
       "SP_14 -0.512570  0.005592\n",
       "SP_16 -0.022958 -0.041277\n",
       "SP_17 -0.028630 -0.060511\n",
       "SP_18  0.027189 -0.016432\n",
       "SP_21  0.270815  0.182783\n",
       "SP_23  0.644208 -0.081728\n",
       "SP_7   0.206961 -0.045253\n",
       "SP_9   0.272275  0.054352"
      ]
     },
     "execution_count": 14,
     "metadata": {},
     "output_type": "execute_result"
    }
   ],
   "source": [
    "# create pca2 dataframe\n",
    "df_trans = pd.DataFrame(trans_data2, columns=['PC1', 'PC2'],\n",
    "                        index=df_T.index)\n",
    "df_trans  # show dataframe"
   ]
  },
  {
   "cell_type": "markdown",
   "metadata": {},
   "source": [
    "### Scores plot\n",
    "\n",
    "Each element on the above dataframe is called a *score*. The PC1 and PC2 scores of each row represent the coordinates of a spectrum in the PC axes.\n",
    "\n",
    "A PCA scores plot is most of the times the main goal of a PCA. A scores plot is a scatter plot of the projection of the data on the PC axes, in two or three dimesions, and often shows data clustering that can be used for the classification and the discrimination of the data."
   ]
  },
  {
   "cell_type": "code",
   "execution_count": 15,
   "metadata": {},
   "outputs": [
    {
     "data": {
      "text/plain": [
       "Index(['SP_12', 'SP_13', 'SP_14', 'SP_16', 'SP_17', 'SP_18', 'SP_21', 'SP_23',\n",
       "       'SP_7', 'SP_9'],\n",
       "      dtype='object')"
      ]
     },
     "execution_count": 15,
     "metadata": {},
     "output_type": "execute_result"
    }
   ],
   "source": [
    "names = df_trans.index\n",
    "names"
   ]
  },
  {
   "cell_type": "code",
   "execution_count": 16,
   "metadata": {},
   "outputs": [
    {
     "data": {
      "image/png": "[encoded data removed]",
      "text/plain": [
       "<Figure size 936x432 with 1 Axes>"
      ]
     },
     "metadata": {},
     "output_type": "display_data"
    }
   ],
   "source": [
    "fig, ax = plt.subplots(figsize=(13, 6))  # create figure and set its size\n",
    "\n",
    "for n in names:\n",
    "    # scatter plot\n",
    "    ax.scatter(df_trans['PC1'][df_trans.index == n],  # x value\n",
    "               df_trans['PC2'][df_trans.index == n],  # y value\n",
    "               s=100,  # marker size\n",
    "               color='teal')  # color\n",
    "\n",
    "# text over points\n",
    "yticks = ax.get_yticks()  # get y-axis ticks positions\n",
    "offset = (yticks[-1] - yticks[-2]) * 0.1  # calculate y-axis offset\n",
    "\n",
    "for n in names:\n",
    "    ax.text(df_trans['PC1'][df_trans.index == n],  # x value\n",
    "            df_trans['PC2'][df_trans.index == n] + offset,  # y value\n",
    "            s=n,  # text\n",
    "            fontsize=10,  # font size\n",
    "            alpha=0.6,  # transparency\n",
    "            ha='center',  # horizontal alignment\n",
    "            va='bottom')  # vertical alignment\n",
    "\n",
    "plt.title('Scores plot')\n",
    "ax.set_xlabel('PC1 ({:.2f}%)'.format(exp_var_rat[0] * 100))  # x-axis label\n",
    "ax.set_ylabel('PC2 ({:.2f}%)'.format(exp_var_rat[1] * 100))  # y-axis label\n",
    "\n",
    "plt.tight_layout()  # use tight layout\n",
    "plt.show()  # show plot"
   ]
  },
  {
   "cell_type": "markdown",
   "metadata": {},
   "source": [
    "We see that spectra `SP_12`, `SP_13` and `SP_14` are clearly separated from the rest against the PC1. We cannot say much about the rest of the spectra since it is a small dataset."
   ]
  },
  {
   "cell_type": "markdown",
   "metadata": {},
   "source": [
    "### Loadings plots\n",
    "\n",
    "The *PC loadings* describe how much of the variation in a variable (Raman shift in our case) is explained by each PC. They represent, essentially, the weight by which each original variable should be multiplied to get the component score. We calculate the loadings as follows:"
   ]
  },
  {
   "cell_type": "code",
   "execution_count": 17,
   "metadata": {},
   "outputs": [
    {
     "data": {
      "text/plain": [
       "array([[-1.41688622e-04,  1.14728611e-04],\n",
       "       [ 1.49222969e-04, -7.95684304e-06],\n",
       "       [-1.71090281e-05, -1.46856431e-04],\n",
       "       [-3.44229877e-04, -4.31781886e-05],\n",
       "       [-4.66257672e-04,  1.66731676e-04]])"
      ]
     },
     "execution_count": 17,
     "metadata": {},
     "output_type": "execute_result"
    }
   ],
   "source": [
    "# calculate the loadings\n",
    "loadings = pca2.components_.T * np.sqrt(pca2.explained_variance_)\n",
    "loadings[0:5, :]  # show first 5 loadings"
   ]
  },
  {
   "cell_type": "markdown",
   "metadata": {},
   "source": [
    "In the above calculation, the `components_` attribute gives the orthogonal basis of the space we are projecting the data into.\n",
    "\n",
    "By using the loadings plots we get a better understanding of what the most signifficant variables in our data are."
   ]
  },
  {
   "cell_type": "code",
   "execution_count": 18,
   "metadata": {},
   "outputs": [
    {
     "data": {
      "image/png": "[encoded data removed]",
      "text/plain": [
       "<Figure size 936x432 with 1 Axes>"
      ]
     },
     "metadata": {},
     "output_type": "display_data"
    }
   ],
   "source": [
    "fig = plt.figure(figsize=(13, 6))  # create figure and set its size\n",
    "\n",
    "# plot PC1 loadings\n",
    "plt.plot(df_T.columns, loadings[:, 0], color='teal',\n",
    "         label='PC1 loadings', alpha=0.75)\n",
    "# plot PC2 loadings\n",
    "plt.plot(df_T.columns, loadings[:, 1], color='orangered',\n",
    "         label='PC2 loadings', alpha=0.75)\n",
    "\n",
    "plt.title('Loadings plot')  # plot title\n",
    "\n",
    "plt.xlabel('Raman shift cm$\\mathrm{^{-1}}$')  # x-axis label\n",
    "\n",
    "plt.legend(facecolor='white')  # plot legend\n",
    "plt.tight_layout()  # set tight layout\n",
    "plt.show()  # show plot"
   ]
  },
  {
   "cell_type": "markdown",
   "metadata": {
    "collapsed": true
   },
   "source": [
    "From this plot we see that the regions that contribute the most to the variance of the spectra are the ones we mentioned in the \"Visualization\" part of this notebook plus a small contribution from the region 750-800 cm<sup>-1</sup>."
   ]
  },
  {
   "cell_type": "code",
   "execution_count": null,
   "metadata": {
    "collapsed": true
   },
   "outputs": [],
   "source": []
  }
 ],
 "metadata": {
  "kernelspec": {
   "display_name": "Python 3",
   "language": "python",
   "name": "python3"
  },
  "language_info": {
   "codemirror_mode": {
    "name": "ipython",
    "version": 3
   },
   "file_extension": ".py",
   "mimetype": "text/x-python",
   "name": "python",
   "nbconvert_exporter": "python",
   "pygments_lexer": "ipython3",
   "version": "3.6.3"
  }
 },
 "nbformat": 4,
 "nbformat_minor": 2
}
