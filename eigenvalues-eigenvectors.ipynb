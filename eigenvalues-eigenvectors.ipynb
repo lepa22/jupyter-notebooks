{
 "cells": [
  {
   "cell_type": "markdown",
   "metadata": {},
   "source": [
    "# Eigenvalues and Eigenvectors\n",
    "\n",
    "An eigenvalue problem is a problem of the form \n",
    "$$A \\vec{x} = \\lambda \\vec{x},\\ \\ \\ \\ \\ \\ \\ \\ (1)$$\n",
    "where $A$ is an $n \\times n$ matrix of real or complex values, $\\vec{x}$ is a non-zero $n \\times 1$ vector and $\\lambda$ is a scalar. Both $\\vec{x}$ or $\\lambda$ may be real or comlex. The values of $\\lambda$ for which this equation has a solution are called eigenvalues of the matrix. The vector $\\vec{x}$ which correspnds to each eigenvalue is called an eigenvector of the matrix.\n",
    "\n",
    "Eq. (1) can be rewritten as:\n",
    "$$(A - \\lambda I) \\vec{x} = 0,\\ \\ \\ \\ \\ \\ \\ \\ (2)$$\n",
    "where $I$ is the identity matrix.\n",
    "\n",
    "The eigenvalues of the matrix $A$ are the roots of the polynomial\n",
    "$$p_{A}(\\lambda) = det(A - \\lambda I),\\ \\ \\ \\ \\ \\ \\ \\ (3)$$\n",
    "which is called the *characteristic polynomial* of the matrix.\n",
    "\n",
    "The eigenvectors corresponding to an eigenvalue $\\lambda$ are found by solving the system of linear equations given by Eq. (2).\n",
    "\n",
    "It is important to note that every vector that satisfies Eq. (1) is an eigenvector of the matrix. That means that there is an infinite number of eigenvectors for a  given matrix.\n",
    "\n",
    "A nice tutorial on how to calculate eigenvalues and eigenvectors can be found [here](http://www.sosmath.com/matrix/eigen2/eigen2.html)."
   ]
  },
  {
   "cell_type": "markdown",
   "metadata": {},
   "source": [
    "## Eigenvalues and eigenvectors in Python\n",
    "\n",
    "In Python we can make use of NumPy's [**linalg.eig(a)**](https://docs.scipy.org/doc/numpy-1.13.0/reference/generated/numpy.linalg.eig.html) function, which takes as input a square matrix **a** and returns a tuple of arrays **(w, v)**, where **w** are the eigenvalues of the matrix and **v** their corresponding normalized (unit \"length\") eigenvectors, such that the column ```v[:,i]``` is the eigenvector corresponding to the eigenvalue ```w[i]```."
   ]
  },
  {
   "cell_type": "markdown",
   "metadata": {},
   "source": [
    "### Example\n",
    "\n",
    "Suppose we have the following square matrix:\n",
    "$$A =\n",
    "\\begin{bmatrix}\n",
    "1 & -3 & 3 \\\\\n",
    "3 & -5 & 3 \\\\\n",
    "6 & -6 & 4\n",
    "\\end{bmatrix}$$"
   ]
  },
  {
   "cell_type": "code",
   "execution_count": 57,
   "metadata": {
    "collapsed": true
   },
   "outputs": [],
   "source": [
    "from numpy import linalg as LA\n",
    "import numpy as np"
   ]
  },
  {
   "cell_type": "code",
   "execution_count": 58,
   "metadata": {},
   "outputs": [
    {
     "data": {
      "text/plain": [
       "matrix([[ 1, -3,  3],\n",
       "        [ 3, -5,  3],\n",
       "        [ 6, -6,  4]])"
      ]
     },
     "execution_count": 58,
     "metadata": {},
     "output_type": "execute_result"
    }
   ],
   "source": [
    "A = np.matrix([[1, -3, 3], [3, -5, 3], [6, -6, 4]])\n",
    "A"
   ]
  },
  {
   "cell_type": "markdown",
   "metadata": {},
   "source": [
    "We calculate the matrix's eigenvalues and eigenvectors. We should, however, be careful, because ```linalg.eig(a)``` is prone to *roundoff errors*, as seen for ```evals = -2```."
   ]
  },
  {
   "cell_type": "code",
   "execution_count": 59,
   "metadata": {
    "scrolled": true
   },
   "outputs": [
    {
     "name": "stdout",
     "output_type": "stream",
     "text": [
      "Evals:\n",
      " [ 4. +0.00000000e+00j -2. +1.10465796e-15j -2. -1.10465796e-15j]\n",
      "\n",
      "Evecs:\n",
      " [[-0.40824829+0.j          0.24400118-0.40702229j  0.24400118+0.40702229j]\n",
      " [-0.40824829+0.j         -0.41621909-0.40702229j -0.41621909+0.40702229j]\n",
      " [-0.81649658+0.j         -0.66022027+0.j         -0.66022027-0.j        ]]\n"
     ]
    }
   ],
   "source": [
    "evals, evecs = LA.eig(A)\n",
    "print(\"Evals:\\n\", evals)\n",
    "print()\n",
    "print(\"Evecs:\\n\", evecs)"
   ]
  },
  {
   "cell_type": "markdown",
   "metadata": {},
   "source": [
    "Check that all eigenvectors are normalized."
   ]
  },
  {
   "cell_type": "code",
   "execution_count": 60,
   "metadata": {},
   "outputs": [
    {
     "name": "stdout",
     "output_type": "stream",
     "text": [
      "Evec0 = 1.00000\n",
      "Evec1 = 1.00000\n",
      "Evec2 = 1.00000\n"
     ]
    }
   ],
   "source": [
    "for i in range(3):\n",
    "    evsum = 0\n",
    "    for j in range(3):\n",
    "        evsum += abs(evecs[j, i])**2\n",
    "    print(\"Evec{:d} = {:.5f}\".format(i, evsum))"
   ]
  },
  {
   "cell_type": "markdown",
   "metadata": {},
   "source": [
    "Check that evecs are indeed the eigenvectors of matrix $A$ by utilizing Eq. (1). We also use NumPy's **round()** function to take care of roundoff errors."
   ]
  },
  {
   "cell_type": "code",
   "execution_count": 61,
   "metadata": {},
   "outputs": [
    {
     "data": {
      "text/plain": [
       "matrix([[-0.48800-0.81404j],\n",
       "        [ 0.83244-0.81404j],\n",
       "        [ 1.32044+0.j     ]])"
      ]
     },
     "execution_count": 61,
     "metadata": {},
     "output_type": "execute_result"
    }
   ],
   "source": [
    "np.round(np.dot(A, evecs[:, 2]), 5)"
   ]
  },
  {
   "cell_type": "code",
   "execution_count": 62,
   "metadata": {},
   "outputs": [
    {
     "data": {
      "text/plain": [
       "matrix([[-0.48800-0.81404j],\n",
       "        [ 0.83244-0.81404j],\n",
       "        [ 1.32044+0.j     ]])"
      ]
     },
     "execution_count": 62,
     "metadata": {},
     "output_type": "execute_result"
    }
   ],
   "source": [
    "np.round(np.dot(evals[2], evecs[:, 2]), 5)"
   ]
  },
  {
   "cell_type": "markdown",
   "metadata": {},
   "source": [
    "We can have the matrix, eigenvalues and eigenvectors printed in a prettier form using SymPy's [**Matrix()** and **eigenvects()**](http://docs.sympy.org/latest/tutorial/matrices.html) functions."
   ]
  },
  {
   "cell_type": "code",
   "execution_count": 63,
   "metadata": {},
   "outputs": [],
   "source": [
    "import sympy as sp\n",
    "sp.init_printing(use_unicode=True)"
   ]
  },
  {
   "cell_type": "code",
   "execution_count": 64,
   "metadata": {},
   "outputs": [
    {
     "data": {
      "text/latex": [
       "$$\\left[\\begin{matrix}1 & -3 & 3\\\\3 & -5 & 3\\\\6 & -6 & 4\\end{matrix}\\right]$$"
      ],
      "text/plain": [
       "⎡1  -3  3⎤\n",
       "⎢        ⎥\n",
       "⎢3  -5  3⎥\n",
       "⎢        ⎥\n",
       "⎣6  -6  4⎦"
      ]
     },
     "execution_count": 64,
     "metadata": {},
     "output_type": "execute_result"
    }
   ],
   "source": [
    "symbA = sp.Matrix(A)\n",
    "symbA"
   ]
  },
  {
   "cell_type": "code",
   "execution_count": 65,
   "metadata": {},
   "outputs": [
    {
     "data": {
      "text/latex": [
       "$$\\left [ \\left ( -2, \\quad 2, \\quad \\left [ \\left[\\begin{matrix}1\\\\1\\\\0\\end{matrix}\\right], \\quad \\left[\\begin{matrix}-1\\\\0\\\\1\\end{matrix}\\right]\\right ]\\right ), \\quad \\left ( 4, \\quad 1, \\quad \\left [ \\left[\\begin{matrix}\\frac{1}{2}\\\\\\frac{1}{2}\\\\1\\end{matrix}\\right]\\right ]\\right )\\right ]$$"
      ],
      "text/plain": [
       "⎡⎛       ⎡⎡1⎤  ⎡-1⎤⎤⎞  ⎛      ⎡⎡1/2⎤⎤⎞⎤\n",
       "⎢⎜       ⎢⎢ ⎥  ⎢  ⎥⎥⎟  ⎜      ⎢⎢   ⎥⎥⎟⎥\n",
       "⎢⎜-2, 2, ⎢⎢1⎥, ⎢0 ⎥⎥⎟, ⎜4, 1, ⎢⎢1/2⎥⎥⎟⎥\n",
       "⎢⎜       ⎢⎢ ⎥  ⎢  ⎥⎥⎟  ⎜      ⎢⎢   ⎥⎥⎟⎥\n",
       "⎣⎝       ⎣⎣0⎦  ⎣1 ⎦⎦⎠  ⎝      ⎣⎣ 1 ⎦⎦⎠⎦"
      ]
     },
     "execution_count": 65,
     "metadata": {},
     "output_type": "execute_result"
    }
   ],
   "source": [
    "symbA.eigenvects()"
   ]
  }
 ],
 "metadata": {
  "kernelspec": {
   "display_name": "Python 3",
   "language": "python",
   "name": "python3"
  },
  "language_info": {
   "codemirror_mode": {
    "name": "ipython",
    "version": 3
   },
   "file_extension": ".py",
   "mimetype": "text/x-python",
   "name": "python",
   "nbconvert_exporter": "python",
   "pygments_lexer": "ipython3",
   "version": "3.6.3"
  }
 },
 "nbformat": 4,
 "nbformat_minor": 2
}
