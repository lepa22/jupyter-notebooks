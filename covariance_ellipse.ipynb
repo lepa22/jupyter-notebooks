{
 "cells": [
  {
   "cell_type": "code",
   "execution_count": 188,
   "metadata": {
    "collapsed": true
   },
   "outputs": [],
   "source": [
    "def cov_ellipse(x, y, conf_int=0.05, fill=False, linewidth=1.5,\n",
    "                linestyle='-', edgecolor='black', facecolor='black',\n",
    "                alpha=1):\n",
    "    '''\n",
    "    Draws the covariance error ellipse for a set of data. By default the 95%\n",
    "    confidence interval is drawn.\n",
    "    \n",
    "    conf_int: the confidence interval of the chi-square distribution for\n",
    "    df=2 (two degrees of freedom). The possible chi-square probability values\n",
    "    for a given confidence interval are:\n",
    "    chi2_prob = {0.995: 0.010,\n",
    "                 0.99: 0.020,\n",
    "                 0.975: 0.051,\n",
    "                 0.95: 0.103,\n",
    "                 0.90: 0.211,\n",
    "                 0.10: 4.605,\n",
    "                 0.05: 5.991,\n",
    "                 0.025: 7.378,\n",
    "                 0.01: 9.210,\n",
    "                 0.005: 10.597}\n",
    "    For example, the 95% confidence interval (1 - 0.95 = 0.05) corresponds to \n",
    "    a chi-square probability of 5.991.\n",
    "    More information on chi-square distribution:\n",
    "    https://faculty.elgin.edu/dkernler/statistics/ch09/9-3.html\n",
    "    '''\n",
    "\n",
    "    cov_mat = np.cov(x, y)\n",
    "    evals, evecs = np.linalg.eig(cov_mat)\n",
    "    eig_pairs = [(np.abs(evals[i]), evecs[:, i]) for i in range(len(evals))]\n",
    "    eig_pairs.sort()\n",
    "    eig_pairs.reverse()\n",
    "    a = eig_pairs[0][0]\n",
    "    b = eig_pairs[1][0]\n",
    "    ev0 = eig_pairs[0][1][0]\n",
    "    ev1 = eig_pairs[0][1][1]\n",
    "\n",
    "    chi2_prob = {0.995: 0.010,\n",
    "                 0.99: 0.020,\n",
    "                 0.975: 0.051,\n",
    "                 0.95: 0.103,\n",
    "                 0.90: 0.211,\n",
    "                 0.10: 4.605,\n",
    "                 0.05: 5.991,\n",
    "                 0.025: 7.378,\n",
    "                 0.01: 9.210,\n",
    "                 0.005: 10.597}\n",
    "\n",
    "    ax = plt.gca()\n",
    "\n",
    "    ax.add_patch(Ellipse((np.mean(x), np.mean(y)),\n",
    "                         2 * np.sqrt(chi2_prob[conf_int] * a),\n",
    "                         2 * np.sqrt(chi2_prob[conf_int] * b),\n",
    "                         alpha=alpha,\n",
    "                         fill=fill,\n",
    "                         facecolor=facecolor,\n",
    "                         edgecolor=edgecolor,\n",
    "                         linewidth=linewidth,\n",
    "                         linestyle=linestyle,\n",
    "                         angle=np.degrees(np.arctan(ev1 / ev0))))"
   ]
  },
  {
   "cell_type": "code",
   "execution_count": null,
   "metadata": {
    "collapsed": true
   },
   "outputs": [],
   "source": []
  }
 ],
 "metadata": {
  "kernelspec": {
   "display_name": "Python 3",
   "language": "python",
   "name": "python3"
  },
  "language_info": {
   "codemirror_mode": {
    "name": "ipython",
    "version": 3
   },
   "file_extension": ".py",
   "mimetype": "text/x-python",
   "name": "python",
   "nbconvert_exporter": "python",
   "pygments_lexer": "ipython3",
   "version": "3.6.3"
  }
 },
 "nbformat": 4,
 "nbformat_minor": 2
}
